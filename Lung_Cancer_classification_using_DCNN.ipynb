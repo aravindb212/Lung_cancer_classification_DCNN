{
  "cells": [
    {
      "cell_type": "markdown",
      "metadata": {
        "id": "view-in-github",
        "colab_type": "text"
      },
      "source": [
        "<a href=\"https://colab.research.google.com/github/aravindb212/Lung_cancer_classification_DCNN/blob/main/Lung_Cancer_classification_using_DCNN.ipynb\" target=\"_parent\"><img src=\"https://colab.research.google.com/assets/colab-badge.svg\" alt=\"Open In Colab\"/></a>"
      ]
    },
    {
      "cell_type": "markdown",
      "metadata": {
        "id": "6R3lxgbmnAyS"
      },
      "source": [
        "## Importing Libraries"
      ]
    },
    {
      "cell_type": "code",
      "source": [
        "from google.colab import drive\n",
        "drive.mount('/content/drive')"
      ],
      "metadata": {
        "colab": {
          "base_uri": "https://localhost:8080/"
        },
        "id": "O9nXc83KnP1m",
        "outputId": "9a6e8c2e-ace6-4242-9c7b-e2ad1b251e7e"
      },
      "execution_count": null,
      "outputs": [
        {
          "output_type": "stream",
          "name": "stdout",
          "text": [
            "Mounted at /content/drive\n"
          ]
        }
      ]
    },
    {
      "cell_type": "code",
      "execution_count": null,
      "metadata": {
        "execution": {
          "iopub.execute_input": "2022-01-13T12:45:40.973505Z",
          "iopub.status.busy": "2022-01-13T12:45:40.973152Z",
          "iopub.status.idle": "2022-01-13T12:45:45.076588Z",
          "shell.execute_reply": "2022-01-13T12:45:45.075803Z",
          "shell.execute_reply.started": "2022-01-13T12:45:40.973433Z"
        },
        "id": "Up_3pdcAnAyX"
      },
      "outputs": [],
      "source": [
        "import os\n",
        "import cv2\n",
        "import pandas as pd\n",
        "import numpy as np\n",
        "import tensorflow as tf\n",
        "import matplotlib.pyplot as plt\n",
        "\n",
        "import warnings\n",
        "warnings.filterwarnings(\"ignore\")"
      ]
    },
    {
      "cell_type": "code",
      "execution_count": null,
      "metadata": {
        "execution": {
          "iopub.execute_input": "2022-01-13T12:45:54.872013Z",
          "iopub.status.busy": "2022-01-13T12:45:54.871752Z",
          "iopub.status.idle": "2022-01-13T12:45:54.876256Z",
          "shell.execute_reply": "2022-01-13T12:45:54.875356Z",
          "shell.execute_reply.started": "2022-01-13T12:45:54.871983Z"
        },
        "id": "bSKV0prynAyY"
      },
      "outputs": [],
      "source": [
        "# File Directory for both the train and test\n",
        "train_path = \"/content/drive/MyDrive/Dataset/Data/train\"\n",
        "val_path = \"/content/drive/MyDrive/Dataset/Data/valid\"\n",
        "test_path = \"/content/drive/MyDrive/Dataset/Data/test\""
      ]
    },
    {
      "cell_type": "code",
      "execution_count": null,
      "metadata": {
        "execution": {
          "iopub.execute_input": "2022-01-13T12:46:01.06097Z",
          "iopub.status.busy": "2022-01-13T12:46:01.060344Z",
          "iopub.status.idle": "2022-01-13T12:46:01.454889Z",
          "shell.execute_reply": "2022-01-13T12:46:01.454087Z",
          "shell.execute_reply.started": "2022-01-13T12:46:01.060932Z"
        },
        "id": "-lDzgHF1nAyZ",
        "colab": {
          "base_uri": "https://localhost:8080/",
          "height": 356
        },
        "outputId": "d2c07f2f-4ef6-4896-c2a5-a7538a0748fe"
      },
      "outputs": [
        {
          "output_type": "error",
          "ename": "FileNotFoundError",
          "evalue": "ignored",
          "traceback": [
            "\u001b[0;31m---------------------------------------------------------------------------\u001b[0m",
            "\u001b[0;31mFileNotFoundError\u001b[0m                         Traceback (most recent call last)",
            "\u001b[0;32m<ipython-input-4-77bf8a1755cf>\u001b[0m in \u001b[0;36m<module>\u001b[0;34m\u001b[0m\n\u001b[1;32m      6\u001b[0m     \u001b[0;32mreturn\u001b[0m \u001b[0mnum_of_image\u001b[0m\u001b[0;34m;\u001b[0m\u001b[0;34m\u001b[0m\u001b[0;34m\u001b[0m\u001b[0m\n\u001b[1;32m      7\u001b[0m \u001b[0;34m\u001b[0m\u001b[0m\n\u001b[0;32m----> 8\u001b[0;31m \u001b[0mtrain_set\u001b[0m \u001b[0;34m=\u001b[0m \u001b[0mGetDatasetSize\u001b[0m\u001b[0;34m(\u001b[0m\u001b[0mtrain_path\u001b[0m\u001b[0;34m)\u001b[0m\u001b[0;34m\u001b[0m\u001b[0;34m\u001b[0m\u001b[0m\n\u001b[0m\u001b[1;32m      9\u001b[0m \u001b[0mval_set\u001b[0m \u001b[0;34m=\u001b[0m \u001b[0mGetDatasetSize\u001b[0m\u001b[0;34m(\u001b[0m\u001b[0mval_path\u001b[0m\u001b[0;34m)\u001b[0m\u001b[0;34m\u001b[0m\u001b[0;34m\u001b[0m\u001b[0m\n\u001b[1;32m     10\u001b[0m \u001b[0mtest_set\u001b[0m \u001b[0;34m=\u001b[0m \u001b[0mGetDatasetSize\u001b[0m\u001b[0;34m(\u001b[0m\u001b[0mtest_path\u001b[0m\u001b[0;34m)\u001b[0m\u001b[0;34m\u001b[0m\u001b[0;34m\u001b[0m\u001b[0m\n",
            "\u001b[0;32m<ipython-input-4-77bf8a1755cf>\u001b[0m in \u001b[0;36mGetDatasetSize\u001b[0;34m(path)\u001b[0m\n\u001b[1;32m      1\u001b[0m \u001b[0;32mdef\u001b[0m \u001b[0mGetDatasetSize\u001b[0m\u001b[0;34m(\u001b[0m\u001b[0mpath\u001b[0m\u001b[0;34m)\u001b[0m\u001b[0;34m:\u001b[0m\u001b[0;34m\u001b[0m\u001b[0;34m\u001b[0m\u001b[0m\n\u001b[1;32m      2\u001b[0m     \u001b[0mnum_of_image\u001b[0m \u001b[0;34m=\u001b[0m \u001b[0;34m{\u001b[0m\u001b[0;34m}\u001b[0m\u001b[0;34m\u001b[0m\u001b[0;34m\u001b[0m\u001b[0m\n\u001b[0;32m----> 3\u001b[0;31m     \u001b[0;32mfor\u001b[0m \u001b[0mfolder\u001b[0m \u001b[0;32min\u001b[0m \u001b[0mos\u001b[0m\u001b[0;34m.\u001b[0m\u001b[0mlistdir\u001b[0m\u001b[0;34m(\u001b[0m\u001b[0mpath\u001b[0m\u001b[0;34m)\u001b[0m\u001b[0;34m:\u001b[0m\u001b[0;34m\u001b[0m\u001b[0;34m\u001b[0m\u001b[0m\n\u001b[0m\u001b[1;32m      4\u001b[0m         \u001b[0;31m# Counting the Number of Files in the Folder\u001b[0m\u001b[0;34m\u001b[0m\u001b[0;34m\u001b[0m\u001b[0;34m\u001b[0m\u001b[0m\n\u001b[1;32m      5\u001b[0m         \u001b[0mnum_of_image\u001b[0m\u001b[0;34m[\u001b[0m\u001b[0mfolder\u001b[0m\u001b[0;34m]\u001b[0m \u001b[0;34m=\u001b[0m \u001b[0mlen\u001b[0m\u001b[0;34m(\u001b[0m\u001b[0mos\u001b[0m\u001b[0;34m.\u001b[0m\u001b[0mlistdir\u001b[0m\u001b[0;34m(\u001b[0m\u001b[0mos\u001b[0m\u001b[0;34m.\u001b[0m\u001b[0mpath\u001b[0m\u001b[0;34m.\u001b[0m\u001b[0mjoin\u001b[0m\u001b[0;34m(\u001b[0m\u001b[0mpath\u001b[0m\u001b[0;34m,\u001b[0m \u001b[0mfolder\u001b[0m\u001b[0;34m)\u001b[0m\u001b[0;34m)\u001b[0m\u001b[0;34m)\u001b[0m\u001b[0;34m;\u001b[0m\u001b[0;34m\u001b[0m\u001b[0;34m\u001b[0m\u001b[0m\n",
            "\u001b[0;31mFileNotFoundError\u001b[0m: [Errno 2] No such file or directory: '/content/drive/MyDrive/Dataset/Data/train'"
          ]
        }
      ],
      "source": [
        "def GetDatasetSize(path):\n",
        "    num_of_image = {}\n",
        "    for folder in os.listdir(path):\n",
        "        # Counting the Number of Files in the Folder\n",
        "        num_of_image[folder] = len(os.listdir(os.path.join(path, folder)));\n",
        "    return num_of_image;\n",
        "\n",
        "train_set = GetDatasetSize(train_path)\n",
        "val_set = GetDatasetSize(val_path)\n",
        "test_set = GetDatasetSize(test_path)\n",
        "print(train_set,\"\\n\\n\",val_set,\"\\n\\n\",test_set)"
      ]
    },
    {
      "cell_type": "code",
      "execution_count": null,
      "metadata": {
        "execution": {
          "iopub.execute_input": "2022-01-13T12:46:06.419953Z",
          "iopub.status.busy": "2022-01-13T12:46:06.419366Z",
          "iopub.status.idle": "2022-01-13T12:46:06.751834Z",
          "shell.execute_reply": "2022-01-13T12:46:06.751188Z",
          "shell.execute_reply.started": "2022-01-13T12:46:06.419915Z"
        },
        "id": "TsNCp3fgnAya",
        "colab": {
          "base_uri": "https://localhost:8080/",
          "height": 235
        },
        "outputId": "fd66b93b-1c64-4d38-99f7-3d8213a7fb7b"
      },
      "outputs": [
        {
          "output_type": "error",
          "ename": "NameError",
          "evalue": "ignored",
          "traceback": [
            "\u001b[0;31m---------------------------------------------------------------------------\u001b[0m",
            "\u001b[0;31mNameError\u001b[0m                                 Traceback (most recent call last)",
            "\u001b[0;32m<ipython-input-5-0806073df306>\u001b[0m in \u001b[0;36m<module>\u001b[0;34m\u001b[0m\n\u001b[1;32m      1\u001b[0m \u001b[0;31m#!pip install matplotlib --upgrade\u001b[0m\u001b[0;34m\u001b[0m\u001b[0;34m\u001b[0m\u001b[0;34m\u001b[0m\u001b[0m\n\u001b[1;32m      2\u001b[0m \u001b[0mlabels\u001b[0m \u001b[0;34m=\u001b[0m \u001b[0;34m[\u001b[0m\u001b[0;34m'squamous.cell.carcinoma'\u001b[0m\u001b[0;34m,\u001b[0m \u001b[0;34m'normal'\u001b[0m\u001b[0;34m,\u001b[0m \u001b[0;34m'adenocarcinoma'\u001b[0m\u001b[0;34m,\u001b[0m \u001b[0;34m'large.cell.carcinoma'\u001b[0m\u001b[0;34m]\u001b[0m\u001b[0;34m\u001b[0m\u001b[0;34m\u001b[0m\u001b[0m\n\u001b[0;32m----> 3\u001b[0;31m \u001b[0mtrain_list\u001b[0m \u001b[0;34m=\u001b[0m \u001b[0mlist\u001b[0m\u001b[0;34m(\u001b[0m\u001b[0mtrain_set\u001b[0m\u001b[0;34m.\u001b[0m\u001b[0mvalues\u001b[0m\u001b[0;34m(\u001b[0m\u001b[0;34m)\u001b[0m\u001b[0;34m)\u001b[0m\u001b[0;34m\u001b[0m\u001b[0;34m\u001b[0m\u001b[0m\n\u001b[0m\u001b[1;32m      4\u001b[0m \u001b[0mval_list\u001b[0m \u001b[0;34m=\u001b[0m \u001b[0mlist\u001b[0m\u001b[0;34m(\u001b[0m\u001b[0mval_set\u001b[0m\u001b[0;34m.\u001b[0m\u001b[0mvalues\u001b[0m\u001b[0;34m(\u001b[0m\u001b[0;34m)\u001b[0m\u001b[0;34m)\u001b[0m\u001b[0;34m\u001b[0m\u001b[0;34m\u001b[0m\u001b[0m\n\u001b[1;32m      5\u001b[0m \u001b[0mtest_list\u001b[0m \u001b[0;34m=\u001b[0m \u001b[0mlist\u001b[0m\u001b[0;34m(\u001b[0m\u001b[0mtest_set\u001b[0m\u001b[0;34m.\u001b[0m\u001b[0mvalues\u001b[0m\u001b[0;34m(\u001b[0m\u001b[0;34m)\u001b[0m\u001b[0;34m)\u001b[0m\u001b[0;34m\u001b[0m\u001b[0;34m\u001b[0m\u001b[0m\n",
            "\u001b[0;31mNameError\u001b[0m: name 'train_set' is not defined"
          ]
        }
      ],
      "source": [
        "#!pip install matplotlib --upgrade\n",
        "labels = ['squamous.cell.carcinoma', 'normal', 'adenocarcinoma', 'large.cell.carcinoma']\n",
        "train_list = list(train_set.values())\n",
        "val_list = list(val_set.values())\n",
        "test_list = list(test_set.values())\n",
        "\n",
        "x = np.arange(len(labels))  # the label locations\n",
        "width = 0.25  # the width of the bars\n",
        "\n",
        "fig, ax = plt.subplots()\n",
        "rects1 = ax.bar(x - width, train_list, width, label='Train')\n",
        "rects2 = ax.bar(x, val_list, width, label='Val')\n",
        "rects3 = ax.bar(x + width, test_list, width, label='Test')\n",
        "\n",
        "# Add some text for labels, title and custom x-axis tick labels, etc.\n",
        "ax.set_ylabel('Images Count')\n",
        "ax.set_title('Dataset')\n",
        "ax.set_xticks(x, labels)\n",
        "plt.xticks(rotation=15)\n",
        "ax.legend()\n",
        "\n",
        "ax.bar_label(rects1)\n",
        "ax.bar_label(rects2)\n",
        "ax.bar_label(rects3)\n",
        "\n",
        "fig.tight_layout()\n",
        "\n",
        "plt.show()"
      ]
    },
    {
      "cell_type": "markdown",
      "metadata": {
        "id": "En_Y-ibdnAyb"
      },
      "source": [
        "## Importing Keras for Image Classification"
      ]
    },
    {
      "cell_type": "code",
      "execution_count": null,
      "metadata": {
        "execution": {
          "iopub.execute_input": "2022-01-13T12:46:11.362181Z",
          "iopub.status.busy": "2022-01-13T12:46:11.361921Z",
          "iopub.status.idle": "2022-01-13T12:46:12.229033Z",
          "shell.execute_reply": "2022-01-13T12:46:12.228292Z",
          "shell.execute_reply.started": "2022-01-13T12:46:11.362151Z"
        },
        "id": "D3gB7zD-nAyb"
      },
      "outputs": [],
      "source": [
        "import tensorflow.keras\n",
        "from tensorflow.keras import layers\n",
        "from tensorflow.keras import Model\n",
        "from tensorflow.keras.models import Sequential\n",
        "from tensorflow.keras.preprocessing import image\n",
        "from tensorflow.keras.callbacks import ModelCheckpoint, EarlyStopping\n",
        "from tensorflow.keras.preprocessing.image import ImageDataGenerator\n",
        "from tensorflow.keras.applications.vgg16 import VGG16, preprocess_input\n",
        "from tensorflow.keras.models import load_model, Model\n",
        "from tensorflow.keras.layers import Dense,Conv2D, Flatten, MaxPool2D, Dropout, BatchNormalization"
      ]
    },
    {
      "cell_type": "code",
      "execution_count": null,
      "metadata": {
        "execution": {
          "iopub.execute_input": "2022-01-13T12:46:15.127351Z",
          "iopub.status.busy": "2022-01-13T12:46:15.126541Z",
          "iopub.status.idle": "2022-01-13T12:46:15.245783Z",
          "shell.execute_reply": "2022-01-13T12:46:15.242461Z",
          "shell.execute_reply.started": "2022-01-13T12:46:15.127312Z"
        },
        "id": "Jqsx_vfrnAyc",
        "colab": {
          "base_uri": "https://localhost:8080/"
        },
        "outputId": "de8b83f5-fdcc-4dca-e3f5-a670ed800e0a"
      },
      "outputs": [
        {
          "output_type": "stream",
          "name": "stdout",
          "text": [
            "Found 624 images belonging to 4 classes.\n"
          ]
        }
      ],
      "source": [
        "train_datagen = ImageDataGenerator(rescale = 1.0/255.0,\n",
        "                                  horizontal_flip = True,\n",
        "                                  fill_mode = 'nearest',\n",
        "                                  zoom_range=0.2,\n",
        "                                  shear_range = 0.2,\n",
        "                                  width_shift_range=0.2,\n",
        "                                  height_shift_range=0.2,\n",
        "                                  rotation_range=0.4)\n",
        "\n",
        "train_data = train_datagen.flow_from_directory(train_path,\n",
        "                                                   batch_size = 5,\n",
        "                                                   target_size = (350,350),\n",
        "                                                   class_mode = 'categorical')"
      ]
    },
    {
      "cell_type": "code",
      "execution_count": null,
      "metadata": {
        "execution": {
          "iopub.execute_input": "2022-01-13T12:46:18.784454Z",
          "iopub.status.busy": "2022-01-13T12:46:18.783751Z",
          "iopub.status.idle": "2022-01-13T12:46:18.791169Z",
          "shell.execute_reply": "2022-01-13T12:46:18.790274Z",
          "shell.execute_reply.started": "2022-01-13T12:46:18.784405Z"
        },
        "id": "87T1W_binAyd",
        "colab": {
          "base_uri": "https://localhost:8080/"
        },
        "outputId": "8e8eb175-58c2-4899-da64-22c29e38ebbb"
      },
      "outputs": [
        {
          "output_type": "execute_result",
          "data": {
            "text/plain": [
              "{'adenocarcinoma_left.lower.lobe_T2_N0_M0_Ib': 0,\n",
              " 'large.cell.carcinoma_left.hilum_T2_N2_M0_IIIa': 1,\n",
              " 'normal': 2,\n",
              " 'squamous.cell.carcinoma_left.hilum_T1_N2_M0_IIIa': 3}"
            ]
          },
          "metadata": {},
          "execution_count": 7
        }
      ],
      "source": [
        "train_data.class_indices"
      ]
    },
    {
      "cell_type": "code",
      "execution_count": null,
      "metadata": {
        "execution": {
          "iopub.execute_input": "2022-01-13T12:46:21.015161Z",
          "iopub.status.busy": "2022-01-13T12:46:21.014691Z",
          "iopub.status.idle": "2022-01-13T12:46:21.124404Z",
          "shell.execute_reply": "2022-01-13T12:46:21.123358Z",
          "shell.execute_reply.started": "2022-01-13T12:46:21.015122Z"
        },
        "id": "OO5u_4FknAyd",
        "colab": {
          "base_uri": "https://localhost:8080/"
        },
        "outputId": "9319022a-42ec-4d36-9064-3822c98a8e47"
      },
      "outputs": [
        {
          "output_type": "stream",
          "name": "stdout",
          "text": [
            "Found 72 images belonging to 4 classes.\n"
          ]
        }
      ],
      "source": [
        "val_datagen = ImageDataGenerator(rescale = 1.0/255.0)\n",
        "val_data = val_datagen.flow_from_directory(val_path,\n",
        "                                                   batch_size = 5,\n",
        "                                                   target_size = (350,350),\n",
        "                                                   class_mode = 'categorical')"
      ]
    },
    {
      "cell_type": "code",
      "execution_count": null,
      "metadata": {
        "execution": {
          "iopub.execute_input": "2022-01-13T12:46:24.162961Z",
          "iopub.status.busy": "2022-01-13T12:46:24.16269Z",
          "iopub.status.idle": "2022-01-13T12:46:24.171197Z",
          "shell.execute_reply": "2022-01-13T12:46:24.170397Z",
          "shell.execute_reply.started": "2022-01-13T12:46:24.162931Z"
        },
        "id": "PYqjYj9knAye",
        "colab": {
          "base_uri": "https://localhost:8080/"
        },
        "outputId": "ebb41044-be72-406d-e9f1-7dac654e74fb"
      },
      "outputs": [
        {
          "output_type": "execute_result",
          "data": {
            "text/plain": [
              "{'adenocarcinoma_left.lower.lobe_T2_N0_M0_Ib': 0,\n",
              " 'large.cell.carcinoma_left.hilum_T2_N2_M0_IIIa': 1,\n",
              " 'normal': 2,\n",
              " 'squamous.cell.carcinoma_left.hilum_T1_N2_M0_IIIa': 3}"
            ]
          },
          "metadata": {},
          "execution_count": 9
        }
      ],
      "source": [
        "val_data.class_indices"
      ]
    },
    {
      "cell_type": "code",
      "execution_count": null,
      "metadata": {
        "execution": {
          "iopub.execute_input": "2022-01-13T12:46:26.277635Z",
          "iopub.status.busy": "2022-01-13T12:46:26.277357Z",
          "iopub.status.idle": "2022-01-13T12:46:26.386859Z",
          "shell.execute_reply": "2022-01-13T12:46:26.386152Z",
          "shell.execute_reply.started": "2022-01-13T12:46:26.277604Z"
        },
        "id": "gRAZMQXlnAye",
        "colab": {
          "base_uri": "https://localhost:8080/"
        },
        "outputId": "1347a5ac-ee02-43d3-ffed-65d90e888a79"
      },
      "outputs": [
        {
          "output_type": "stream",
          "name": "stdout",
          "text": [
            "Found 315 images belonging to 4 classes.\n"
          ]
        }
      ],
      "source": [
        "test_datagen = ImageDataGenerator(rescale = 1.0/255.0)\n",
        "test_data = test_datagen.flow_from_directory(test_path,\n",
        "                                                   batch_size = 5,\n",
        "                                                   target_size = (350,350),\n",
        "                                                   class_mode = 'categorical')"
      ]
    },
    {
      "cell_type": "code",
      "execution_count": null,
      "metadata": {
        "execution": {
          "iopub.execute_input": "2022-01-13T12:46:29.534509Z",
          "iopub.status.busy": "2022-01-13T12:46:29.534136Z",
          "iopub.status.idle": "2022-01-13T12:46:29.540914Z",
          "shell.execute_reply": "2022-01-13T12:46:29.540255Z",
          "shell.execute_reply.started": "2022-01-13T12:46:29.53447Z"
        },
        "id": "iZh71vCynAye",
        "colab": {
          "base_uri": "https://localhost:8080/"
        },
        "outputId": "b0a700c3-917c-43f7-9360-78b31630f3d9"
      },
      "outputs": [
        {
          "output_type": "execute_result",
          "data": {
            "text/plain": [
              "{'adenocarcinoma': 0,\n",
              " 'large.cell.carcinoma': 1,\n",
              " 'normal': 2,\n",
              " 'squamous.cell.carcinoma': 3}"
            ]
          },
          "metadata": {},
          "execution_count": 11
        }
      ],
      "source": [
        "test_data.class_indices"
      ]
    },
    {
      "cell_type": "markdown",
      "metadata": {
        "id": "tIzhjdwCnAyf"
      },
      "source": [
        "## CNN Model"
      ]
    },
    {
      "cell_type": "code",
      "source": [
        "model = Sequential()\n",
        "\n",
        "# Convolutional Layer with input shape (350,350,3)\n",
        "model.add(Conv2D(filters=32, kernel_size= (3,3), activation= 'relu', input_shape=(350,350,3)) )\n",
        "model.add(BatchNormalization())\n",
        "model.add(MaxPool2D(pool_size=(2,2)))\n",
        "model.add(Conv2D(filters=64, kernel_size=(3,3), activation='relu' ))\n",
        "model.add(Conv2D(filters=64, kernel_size=(3,3), activation='relu' ))\n",
        "model.add(BatchNormalization())\n",
        "model.add(MaxPool2D(pool_size=(2,2)))\n",
        "model.add(Conv2D(filters=128, kernel_size=(3,3), activation='relu' ))\n",
        "model.add(BatchNormalization())\n",
        "model.add(MaxPool2D(pool_size=(2,2)))\n",
        "model.add(Conv2D(filters=256, kernel_size=(3,3), activation='relu' ))\n",
        "model.add(Conv2D(filters=256, kernel_size=(3,3), activation='relu' ))\n",
        "model.add(BatchNormalization())\n",
        "model.add(MaxPool2D(pool_size=(2,2)))\n",
        "model.add(Conv2D(filters=480, kernel_size=(3,3), activation='relu' ))\n",
        "model.add(Conv2D(filters=480, kernel_size=(3,3), activation='relu' ))\n",
        "model.add(BatchNormalization())\n",
        "model.add(MaxPool2D(pool_size=(2,2)))\n",
        "model.add(Conv2D(filters=832, kernel_size=(3,3), activation='relu' ))\n",
        "model.add(BatchNormalization())\n",
        "model.add(Conv2D(filters=1024, kernel_size=(3,3), activation='relu' ))\n",
        "model.add(BatchNormalization())\n",
        "model.add(MaxPool2D(pool_size=(2,2)))\n",
        "\n",
        "model.add(Dropout(rate=0.25))\n",
        "model.add(Flatten())\n",
        "model.add(Dense(units=300, activation='relu'))\n",
        "model.add(Dropout(rate=0.25))\n",
        "model.add(Dense(units=4, activation='softmax'))\n",
        "\n",
        "model.compile(optimizer='adam', loss='categorical_crossentropy', metrics=['accuracy']  )\n",
        "\n",
        "model.summary()"
      ],
      "metadata": {
        "colab": {
          "base_uri": "https://localhost:8080/"
        },
        "id": "lz5ZTor535DA",
        "outputId": "095af001-2618-4c72-8ecc-9daba0c4c9b4"
      },
      "execution_count": null,
      "outputs": [
        {
          "output_type": "stream",
          "name": "stdout",
          "text": [
            "Model: \"sequential_5\"\n",
            "_________________________________________________________________\n",
            " Layer (type)                Output Shape              Param #   \n",
            "=================================================================\n",
            " conv2d_100 (Conv2D)         (None, 348, 348, 32)      896       \n",
            "                                                                 \n",
            " batch_normalization_94 (Bat  (None, 348, 348, 32)     128       \n",
            " chNormalization)                                                \n",
            "                                                                 \n",
            " max_pooling2d_7 (MaxPooling  (None, 174, 174, 32)     0         \n",
            " 2D)                                                             \n",
            "                                                                 \n",
            " conv2d_101 (Conv2D)         (None, 172, 172, 64)      18496     \n",
            "                                                                 \n",
            " conv2d_102 (Conv2D)         (None, 170, 170, 64)      36928     \n",
            "                                                                 \n",
            " batch_normalization_95 (Bat  (None, 170, 170, 64)     256       \n",
            " chNormalization)                                                \n",
            "                                                                 \n",
            " max_pooling2d_8 (MaxPooling  (None, 85, 85, 64)       0         \n",
            " 2D)                                                             \n",
            "                                                                 \n",
            " conv2d_103 (Conv2D)         (None, 83, 83, 128)       73856     \n",
            "                                                                 \n",
            " batch_normalization_96 (Bat  (None, 83, 83, 128)      512       \n",
            " chNormalization)                                                \n",
            "                                                                 \n",
            " max_pooling2d_9 (MaxPooling  (None, 41, 41, 128)      0         \n",
            " 2D)                                                             \n",
            "                                                                 \n",
            " conv2d_104 (Conv2D)         (None, 39, 39, 256)       295168    \n",
            "                                                                 \n",
            " conv2d_105 (Conv2D)         (None, 37, 37, 256)       590080    \n",
            "                                                                 \n",
            " batch_normalization_97 (Bat  (None, 37, 37, 256)      1024      \n",
            " chNormalization)                                                \n",
            "                                                                 \n",
            " max_pooling2d_10 (MaxPoolin  (None, 18, 18, 256)      0         \n",
            " g2D)                                                            \n",
            "                                                                 \n",
            " conv2d_106 (Conv2D)         (None, 16, 16, 480)       1106400   \n",
            "                                                                 \n",
            " conv2d_107 (Conv2D)         (None, 14, 14, 480)       2074080   \n",
            "                                                                 \n",
            " batch_normalization_98 (Bat  (None, 14, 14, 480)      1920      \n",
            " chNormalization)                                                \n",
            "                                                                 \n",
            " max_pooling2d_11 (MaxPoolin  (None, 7, 7, 480)        0         \n",
            " g2D)                                                            \n",
            "                                                                 \n",
            " conv2d_108 (Conv2D)         (None, 5, 5, 832)         3595072   \n",
            "                                                                 \n",
            " batch_normalization_99 (Bat  (None, 5, 5, 832)        3328      \n",
            " chNormalization)                                                \n",
            "                                                                 \n",
            " conv2d_109 (Conv2D)         (None, 3, 3, 1024)        7668736   \n",
            "                                                                 \n",
            " batch_normalization_100 (Ba  (None, 3, 3, 1024)       4096      \n",
            " tchNormalization)                                               \n",
            "                                                                 \n",
            " max_pooling2d_12 (MaxPoolin  (None, 1, 1, 1024)       0         \n",
            " g2D)                                                            \n",
            "                                                                 \n",
            " dropout_4 (Dropout)         (None, 1, 1, 1024)        0         \n",
            "                                                                 \n",
            " flatten_3 (Flatten)         (None, 1024)              0         \n",
            "                                                                 \n",
            " dense_6 (Dense)             (None, 300)               307500    \n",
            "                                                                 \n",
            " dropout_5 (Dropout)         (None, 300)               0         \n",
            "                                                                 \n",
            " dense_7 (Dense)             (None, 4)                 1204      \n",
            "                                                                 \n",
            "=================================================================\n",
            "Total params: 15,779,680\n",
            "Trainable params: 15,774,048\n",
            "Non-trainable params: 5,632\n",
            "_________________________________________________________________\n"
          ]
        }
      ]
    },
    {
      "cell_type": "code",
      "execution_count": null,
      "metadata": {
        "execution": {
          "iopub.execute_input": "2022-01-13T12:46:32.251471Z",
          "iopub.status.busy": "2022-01-13T12:46:32.250916Z",
          "iopub.status.idle": "2022-01-13T12:46:34.748742Z",
          "shell.execute_reply": "2022-01-13T12:46:34.748053Z",
          "shell.execute_reply.started": "2022-01-13T12:46:32.251433Z"
        },
        "id": "0SU2a_8OnAyf",
        "colab": {
          "base_uri": "https://localhost:8080/"
        },
        "outputId": "da25ff66-0c2b-4fe1-9b4e-995c34727b23"
      },
      "outputs": [
        {
          "output_type": "stream",
          "name": "stdout",
          "text": [
            "Model: \"sequential\"\n",
            "_________________________________________________________________\n",
            " Layer (type)                Output Shape              Param #   \n",
            "=================================================================\n",
            " conv2d (Conv2D)             (None, 348, 348, 32)      896       \n",
            "                                                                 \n",
            " conv2d_1 (Conv2D)           (None, 346, 346, 32)      9248      \n",
            "                                                                 \n",
            " max_pooling2d (MaxPooling2D  (None, 173, 173, 32)     0         \n",
            " )                                                               \n",
            "                                                                 \n",
            " conv2d_2 (Conv2D)           (None, 171, 171, 64)      18496     \n",
            "                                                                 \n",
            " max_pooling2d_1 (MaxPooling  (None, 85, 85, 64)       0         \n",
            " 2D)                                                             \n",
            "                                                                 \n",
            " conv2d_3 (Conv2D)           (None, 83, 83, 128)       73856     \n",
            "                                                                 \n",
            " max_pooling2d_2 (MaxPooling  (None, 41, 41, 128)      0         \n",
            " 2D)                                                             \n",
            "                                                                 \n",
            " dropout (Dropout)           (None, 41, 41, 128)       0         \n",
            "                                                                 \n",
            " flatten (Flatten)           (None, 215168)            0         \n",
            "                                                                 \n",
            " dense (Dense)               (None, 64)                13770816  \n",
            "                                                                 \n",
            " dropout_1 (Dropout)         (None, 64)                0         \n",
            "                                                                 \n",
            " dense_1 (Dense)             (None, 4)                 260       \n",
            "                                                                 \n",
            "=================================================================\n",
            "Total params: 13,873,572\n",
            "Trainable params: 13,873,572\n",
            "Non-trainable params: 0\n",
            "_________________________________________________________________\n"
          ]
        }
      ],
      "source": [
        "#model = Sequential()\n",
        "\n",
        "# Convolutional Layer with input shape (350,350,3)\n",
        "#model.add(Conv2D(filters=32, kernel_size= (3,3), activation= 'relu', input_shape=(350,350,3)) )\n",
        "\n",
        "#model.add(Conv2D(filters=32, kernel_size=(3,3), activation='relu' ))\n",
        "#model.add(MaxPool2D(pool_size=(2,2)))\n",
        "\n",
        "#model.add(Conv2D(filters=64, kernel_size=(3,3), activation='relu' ))\n",
        "#model.add(MaxPool2D(pool_size=(2,2)))\n",
        "\n",
        "#model.add(Conv2D(filters=128, kernel_size=(3,3), activation='relu' ))\n",
        "#model.add(MaxPool2D(pool_size=(2,2)))\n",
        "\n",
        "#model.add(Dropout(rate=0.25))\n",
        "\n",
        "#model.add(Flatten())\n",
        "#model.add(Dense(units=64, activation='relu'))\n",
        "#model.add(Dropout(rate=0.25))\n",
        "#model.add(Dense(units=4, activation='sigmoid'))\n",
        "\n",
        "#model.compile(optimizer='adam', loss='categorical_crossentropy', metrics=['accuracy']  )\n",
        "\n",
        "#model.summary()"
      ]
    },
    {
      "cell_type": "code",
      "execution_count": null,
      "metadata": {
        "execution": {
          "iopub.execute_input": "2022-01-13T12:46:47.141156Z",
          "iopub.status.busy": "2022-01-13T12:46:47.140896Z",
          "iopub.status.idle": "2022-01-13T12:46:47.146046Z",
          "shell.execute_reply": "2022-01-13T12:46:47.145141Z",
          "shell.execute_reply.started": "2022-01-13T12:46:47.141127Z"
        },
        "id": "u5Bg7C0_nAyf"
      },
      "outputs": [],
      "source": [
        "# Adding Model check point Callback\n",
        "\n",
        "mc = ModelCheckpoint(\n",
        "    filepath=\"./ct_cnn_best_model.hdf5\",\n",
        "    monitor= 'val_accuracy',\n",
        "    verbose= 1,\n",
        "    save_best_only= True,\n",
        "    mode = 'auto'\n",
        "    );\n",
        "\n",
        "call_back = [mc];"
      ]
    },
    {
      "cell_type": "code",
      "execution_count": null,
      "metadata": {
        "execution": {
          "iopub.execute_input": "2022-01-13T12:46:50.332504Z",
          "iopub.status.busy": "2022-01-13T12:46:50.331764Z",
          "iopub.status.idle": "2022-01-13T12:57:10.518819Z",
          "shell.execute_reply": "2022-01-13T12:57:10.518029Z",
          "shell.execute_reply.started": "2022-01-13T12:46:50.332469Z"
        },
        "id": "wirUI6vWnAyf",
        "colab": {
          "base_uri": "https://localhost:8080/",
          "height": 235
        },
        "outputId": "0721fcdc-9a06-4218-c633-003bd2dc45dd"
      },
      "outputs": [
        {
          "output_type": "error",
          "ename": "NameError",
          "evalue": "ignored",
          "traceback": [
            "\u001b[0;31m---------------------------------------------------------------------------\u001b[0m",
            "\u001b[0;31mNameError\u001b[0m                                 Traceback (most recent call last)",
            "\u001b[0;32m<ipython-input-1-48d51e225417>\u001b[0m in \u001b[0;36m<module>\u001b[0;34m\u001b[0m\n\u001b[1;32m      1\u001b[0m \u001b[0;31m# Fitting the Model\u001b[0m\u001b[0;34m\u001b[0m\u001b[0;34m\u001b[0m\u001b[0;34m\u001b[0m\u001b[0m\n\u001b[0;32m----> 2\u001b[0;31m cnn = model.fit(\n\u001b[0m\u001b[1;32m      3\u001b[0m     \u001b[0mtrain_data\u001b[0m\u001b[0;34m,\u001b[0m\u001b[0;34m\u001b[0m\u001b[0;34m\u001b[0m\u001b[0m\n\u001b[1;32m      4\u001b[0m     \u001b[0msteps_per_epoch\u001b[0m \u001b[0;34m=\u001b[0m \u001b[0mtrain_data\u001b[0m\u001b[0;34m.\u001b[0m\u001b[0msamples\u001b[0m\u001b[0;34m//\u001b[0m\u001b[0mtrain_data\u001b[0m\u001b[0;34m.\u001b[0m\u001b[0mbatch_size\u001b[0m\u001b[0;34m,\u001b[0m\u001b[0;34m\u001b[0m\u001b[0;34m\u001b[0m\u001b[0m\n\u001b[1;32m      5\u001b[0m     \u001b[0mepochs\u001b[0m \u001b[0;34m=\u001b[0m \u001b[0;36m32\u001b[0m\u001b[0;34m,\u001b[0m\u001b[0;34m\u001b[0m\u001b[0;34m\u001b[0m\u001b[0m\n",
            "\u001b[0;31mNameError\u001b[0m: name 'model' is not defined"
          ]
        }
      ],
      "source": [
        "# Fitting the Model\n",
        "cnn = model.fit(\n",
        "    train_data,\n",
        "    steps_per_epoch = train_data.samples//train_data.batch_size,\n",
        "    epochs = 32,\n",
        "    validation_data = val_data,\n",
        "    validation_steps = val_data.samples//val_data.batch_size,\n",
        "    callbacks = call_back\n",
        "    )"
      ]
    },
    {
      "cell_type": "code",
      "execution_count": null,
      "metadata": {
        "execution": {
          "iopub.execute_input": "2022-01-13T12:58:22.44398Z",
          "iopub.status.busy": "2022-01-13T12:58:22.443725Z",
          "iopub.status.idle": "2022-01-13T12:58:22.905407Z",
          "shell.execute_reply": "2022-01-13T12:58:22.90467Z",
          "shell.execute_reply.started": "2022-01-13T12:58:22.44395Z"
        },
        "id": "2-qMhmHcnAyg"
      },
      "outputs": [],
      "source": [
        "# Loading the Best Fit Model\n",
        "model = load_model(\"./ct_cnn_best_model.hdf5\")"
      ]
    },
    {
      "cell_type": "code",
      "execution_count": null,
      "metadata": {
        "execution": {
          "iopub.execute_input": "2022-01-13T12:58:25.09977Z",
          "iopub.status.busy": "2022-01-13T12:58:25.099293Z",
          "iopub.status.idle": "2022-01-13T12:58:29.445208Z",
          "shell.execute_reply": "2022-01-13T12:58:29.444462Z",
          "shell.execute_reply.started": "2022-01-13T12:58:25.099735Z"
        },
        "id": "ItTvqaXunAyg",
        "colab": {
          "base_uri": "https://localhost:8080/"
        },
        "outputId": "f721c8d0-2f0e-4975-b734-4e146bfcec5b"
      },
      "outputs": [
        {
          "output_type": "stream",
          "name": "stdout",
          "text": [
            "The accuracy of the model is = 53.015875816345215 %\n"
          ]
        }
      ],
      "source": [
        "# Checking the Accuracy of the Model\n",
        "accuracy_cnn = model.evaluate_generator(generator= test_data)[1]\n",
        "print(f\"The accuracy of the model is = {accuracy_cnn*100} %\")"
      ]
    },
    {
      "cell_type": "code",
      "execution_count": null,
      "metadata": {
        "execution": {
          "iopub.execute_input": "2022-01-13T12:58:32.538278Z",
          "iopub.status.busy": "2022-01-13T12:58:32.538017Z",
          "iopub.status.idle": "2022-01-13T12:58:32.543698Z",
          "shell.execute_reply": "2022-01-13T12:58:32.542845Z",
          "shell.execute_reply.started": "2022-01-13T12:58:32.538247Z"
        },
        "id": "SyO7JSj1nAyg",
        "colab": {
          "base_uri": "https://localhost:8080/"
        },
        "outputId": "5fd513d9-ab85-467d-ee96-4b3f25e7297f"
      },
      "outputs": [
        {
          "output_type": "execute_result",
          "data": {
            "text/plain": [
              "dict_keys(['loss', 'accuracy', 'val_loss', 'val_accuracy'])"
            ]
          },
          "metadata": {},
          "execution_count": 17
        }
      ],
      "source": [
        "cnn.history.keys()"
      ]
    },
    {
      "cell_type": "code",
      "execution_count": null,
      "metadata": {
        "execution": {
          "iopub.execute_input": "2022-01-13T12:58:36.293403Z",
          "iopub.status.busy": "2022-01-13T12:58:36.292603Z",
          "iopub.status.idle": "2022-01-13T12:58:36.800657Z",
          "shell.execute_reply": "2022-01-13T12:58:36.799919Z",
          "shell.execute_reply.started": "2022-01-13T12:58:36.29334Z"
        },
        "id": "EKfZVbV0nAyg",
        "colab": {
          "base_uri": "https://localhost:8080/",
          "height": 369
        },
        "outputId": "cbe887ba-d5db-4810-8d0d-98dc2666950c"
      },
      "outputs": [
        {
          "output_type": "display_data",
          "data": {
            "text/plain": [
              "<Figure size 1080x360 with 2 Axes>"
            ],
            "image/png": "[encoded data removed]"
          },
          "metadata": {
            "needs_background": "light"
          }
        }
      ],
      "source": [
        "# Plot model performance\n",
        "acc = cnn.history['accuracy']\n",
        "val_acc = cnn.history['val_accuracy']\n",
        "loss = cnn.history['loss']\n",
        "val_loss = cnn.history['val_loss']\n",
        "epochs_range = range(1, len(cnn.epoch) + 1)\n",
        "\n",
        "plt.figure(figsize=(15,5))\n",
        "\n",
        "plt.subplot(1, 2, 1)\n",
        "plt.plot(epochs_range, acc, label='Train Set')\n",
        "plt.plot(epochs_range, val_acc, label='Val Set')\n",
        "plt.legend(loc=\"best\")\n",
        "plt.xlabel('Epochs')\n",
        "plt.ylabel('Accuracy')\n",
        "plt.title('Model Accuracy')\n",
        "\n",
        "plt.subplot(1, 2, 2)\n",
        "plt.plot(epochs_range, loss, label='Train Set')\n",
        "plt.plot(epochs_range, val_loss, label='Val Set')\n",
        "plt.legend(loc=\"best\")\n",
        "plt.xlabel('Epochs')\n",
        "plt.ylabel('Loss')\n",
        "plt.title('Model Loss')\n",
        "\n",
        "plt.tight_layout()\n",
        "plt.show()"
      ]
    },
    {
      "cell_type": "markdown",
      "metadata": {
        "id": "ZNO0uQZ_nAyg"
      },
      "source": [
        "## VGG16 Model"
      ]
    },
    {
      "cell_type": "code",
      "execution_count": null,
      "metadata": {
        "execution": {
          "iopub.execute_input": "2022-01-13T12:58:42.773492Z",
          "iopub.status.busy": "2022-01-13T12:58:42.772772Z",
          "iopub.status.idle": "2022-01-13T12:58:43.452602Z",
          "shell.execute_reply": "2022-01-13T12:58:43.451757Z",
          "shell.execute_reply.started": "2022-01-13T12:58:42.77345Z"
        },
        "id": "uGNWy0OVnAyh",
        "colab": {
          "base_uri": "https://localhost:8080/"
        },
        "outputId": "7a35fedf-30ac-477d-dbd7-ae21b39dd8c5"
      },
      "outputs": [
        {
          "output_type": "stream",
          "name": "stdout",
          "text": [
            "Downloading data from https://storage.googleapis.com/tensorflow/keras-applications/vgg16/vgg16_weights_tf_dim_ordering_tf_kernels_notop.h5\n",
            "58889256/58889256 [==============================] - 3s 0us/step\n"
          ]
        }
      ],
      "source": [
        "base_model = VGG16(\n",
        "    weights='imagenet',\n",
        "    include_top=False,\n",
        "    input_shape=(350,350,3)\n",
        ")"
      ]
    },
    {
      "cell_type": "code",
      "execution_count": null,
      "metadata": {
        "execution": {
          "iopub.execute_input": "2022-01-13T12:58:48.844902Z",
          "iopub.status.busy": "2022-01-13T12:58:48.844198Z",
          "iopub.status.idle": "2022-01-13T12:58:48.920324Z",
          "shell.execute_reply": "2022-01-13T12:58:48.919633Z",
          "shell.execute_reply.started": "2022-01-13T12:58:48.844864Z"
        },
        "id": "wuplvBgjnAyh",
        "colab": {
          "base_uri": "https://localhost:8080/"
        },
        "outputId": "fb8315d1-3686-49a9-972f-7b081cf3af86"
      },
      "outputs": [
        {
          "output_type": "stream",
          "name": "stdout",
          "text": [
            "Model: \"sequential_1\"\n",
            "_________________________________________________________________\n",
            " Layer (type)                Output Shape              Param #   \n",
            "=================================================================\n",
            " vgg16 (Functional)          (None, 10, 10, 512)       14714688  \n",
            "                                                                 \n",
            " flatten_1 (Flatten)         (None, 51200)             0         \n",
            "                                                                 \n",
            " dropout_2 (Dropout)         (None, 51200)             0         \n",
            "                                                                 \n",
            " dense_2 (Dense)             (None, 4)                 204804    \n",
            "                                                                 \n",
            "=================================================================\n",
            "Total params: 14,919,492\n",
            "Trainable params: 204,804\n",
            "Non-trainable params: 14,714,688\n",
            "_________________________________________________________________\n"
          ]
        }
      ],
      "source": [
        "NUM_CLASSES = 4\n",
        "\n",
        "vgg_model = Sequential()\n",
        "vgg_model.add(base_model)\n",
        "vgg_model.add(layers.Flatten())\n",
        "vgg_model.add(layers.Dropout(0.25))\n",
        "vgg_model.add(layers.Dense(NUM_CLASSES, activation='sigmoid'))\n",
        "\n",
        "vgg_model.layers[0].trainable = False\n",
        "\n",
        "vgg_model.compile(\n",
        "    loss='categorical_crossentropy',\n",
        "    optimizer='adam',\n",
        "    metrics=['accuracy']\n",
        ")\n",
        "\n",
        "vgg_model.summary()"
      ]
    },
    {
      "cell_type": "code",
      "execution_count": null,
      "metadata": {
        "execution": {
          "iopub.execute_input": "2022-01-13T12:58:52.423274Z",
          "iopub.status.busy": "2022-01-13T12:58:52.42276Z",
          "iopub.status.idle": "2022-01-13T12:58:52.429051Z",
          "shell.execute_reply": "2022-01-13T12:58:52.428069Z",
          "shell.execute_reply.started": "2022-01-13T12:58:52.423238Z"
        },
        "id": "hV6DtxxFnAyh"
      },
      "outputs": [],
      "source": [
        "# Adding Model check point Callback\n",
        "\n",
        "mc = ModelCheckpoint(\n",
        "    filepath=\"./ct_vgg_best_model.hdf5\",\n",
        "    monitor= 'val_accuracy',\n",
        "    verbose= 1,\n",
        "    save_best_only= True,\n",
        "    mode = 'auto'\n",
        "    );\n",
        "\n",
        "call_back = [ mc];"
      ]
    },
    {
      "cell_type": "code",
      "execution_count": null,
      "metadata": {
        "execution": {
          "iopub.execute_input": "2022-01-13T12:58:55.69347Z",
          "iopub.status.busy": "2022-01-13T12:58:55.692895Z",
          "iopub.status.idle": "2022-01-13T13:09:44.971887Z",
          "shell.execute_reply": "2022-01-13T13:09:44.97119Z",
          "shell.execute_reply.started": "2022-01-13T12:58:55.693431Z"
        },
        "id": "rN-OKX_jnAyh",
        "colab": {
          "base_uri": "https://localhost:8080/"
        },
        "outputId": "86862d21-54e2-4d0f-adf1-a8dbfe90b10e"
      },
      "outputs": [
        {
          "output_type": "stream",
          "name": "stdout",
          "text": [
            "Epoch 1/32\n",
            "124/124 [==============================] - ETA: 0s - loss: 2.5834 - accuracy: 0.4814\n",
            "Epoch 1: val_accuracy improved from -inf to 0.42857, saving model to ./ct_vgg_best_model.hdf5\n",
            "124/124 [==============================] - 27s 200ms/step - loss: 2.5834 - accuracy: 0.4814 - val_loss: 1.3969 - val_accuracy: 0.4286\n",
            "Epoch 2/32\n",
            "124/124 [==============================] - ETA: 0s - loss: 1.7872 - accuracy: 0.5670\n",
            "Epoch 2: val_accuracy improved from 0.42857 to 0.55714, saving model to ./ct_vgg_best_model.hdf5\n",
            "124/124 [==============================] - 24s 192ms/step - loss: 1.7872 - accuracy: 0.5670 - val_loss: 2.1703 - val_accuracy: 0.5571\n",
            "Epoch 3/32\n",
            "124/124 [==============================] - ETA: 0s - loss: 1.5496 - accuracy: 0.6220\n",
            "Epoch 3: val_accuracy improved from 0.55714 to 0.57143, saving model to ./ct_vgg_best_model.hdf5\n",
            "124/124 [==============================] - 24s 191ms/step - loss: 1.5496 - accuracy: 0.6220 - val_loss: 1.3271 - val_accuracy: 0.5714\n",
            "Epoch 4/32\n",
            "124/124 [==============================] - ETA: 0s - loss: 1.4896 - accuracy: 0.6414\n",
            "Epoch 4: val_accuracy improved from 0.57143 to 0.70000, saving model to ./ct_vgg_best_model.hdf5\n",
            "124/124 [==============================] - 25s 198ms/step - loss: 1.4896 - accuracy: 0.6414 - val_loss: 0.9378 - val_accuracy: 0.7000\n",
            "Epoch 5/32\n",
            "124/124 [==============================] - ETA: 0s - loss: 1.5750 - accuracy: 0.6527\n",
            "Epoch 5: val_accuracy improved from 0.70000 to 0.81429, saving model to ./ct_vgg_best_model.hdf5\n",
            "124/124 [==============================] - 25s 203ms/step - loss: 1.5750 - accuracy: 0.6527 - val_loss: 0.6799 - val_accuracy: 0.8143\n",
            "Epoch 6/32\n",
            "124/124 [==============================] - ETA: 0s - loss: 1.2792 - accuracy: 0.6914\n",
            "Epoch 6: val_accuracy did not improve from 0.81429\n",
            "124/124 [==============================] - 24s 190ms/step - loss: 1.2792 - accuracy: 0.6914 - val_loss: 1.0357 - val_accuracy: 0.7000\n",
            "Epoch 7/32\n",
            "124/124 [==============================] - ETA: 0s - loss: 1.3765 - accuracy: 0.7044\n",
            "Epoch 7: val_accuracy did not improve from 0.81429\n",
            "124/124 [==============================] - 24s 189ms/step - loss: 1.3765 - accuracy: 0.7044 - val_loss: 1.5881 - val_accuracy: 0.6286\n",
            "Epoch 8/32\n",
            "124/124 [==============================] - ETA: 0s - loss: 1.1335 - accuracy: 0.7177\n",
            "Epoch 8: val_accuracy did not improve from 0.81429\n",
            "124/124 [==============================] - 24s 190ms/step - loss: 1.1335 - accuracy: 0.7177 - val_loss: 1.3681 - val_accuracy: 0.6571\n",
            "Epoch 9/32\n",
            "124/124 [==============================] - ETA: 0s - loss: 1.0669 - accuracy: 0.7561\n",
            "Epoch 9: val_accuracy did not improve from 0.81429\n",
            "124/124 [==============================] - 24s 189ms/step - loss: 1.0669 - accuracy: 0.7561 - val_loss: 1.5892 - val_accuracy: 0.6143\n",
            "Epoch 10/32\n",
            "124/124 [==============================] - ETA: 0s - loss: 1.1309 - accuracy: 0.7302\n",
            "Epoch 10: val_accuracy did not improve from 0.81429\n",
            "124/124 [==============================] - 23s 187ms/step - loss: 1.1309 - accuracy: 0.7302 - val_loss: 0.7941 - val_accuracy: 0.7857\n",
            "Epoch 11/32\n",
            "124/124 [==============================] - ETA: 0s - loss: 1.5076 - accuracy: 0.7076\n",
            "Epoch 11: val_accuracy did not improve from 0.81429\n",
            "124/124 [==============================] - 23s 187ms/step - loss: 1.5076 - accuracy: 0.7076 - val_loss: 1.3411 - val_accuracy: 0.7000\n",
            "Epoch 12/32\n",
            "124/124 [==============================] - ETA: 0s - loss: 0.9894 - accuracy: 0.7754\n",
            "Epoch 12: val_accuracy did not improve from 0.81429\n",
            "124/124 [==============================] - 23s 187ms/step - loss: 0.9894 - accuracy: 0.7754 - val_loss: 0.9256 - val_accuracy: 0.8143\n",
            "Epoch 13/32\n",
            "124/124 [==============================] - ETA: 0s - loss: 1.0401 - accuracy: 0.7754\n",
            "Epoch 13: val_accuracy improved from 0.81429 to 0.84286, saving model to ./ct_vgg_best_model.hdf5\n",
            "124/124 [==============================] - 24s 189ms/step - loss: 1.0401 - accuracy: 0.7754 - val_loss: 0.9779 - val_accuracy: 0.8429\n",
            "Epoch 14/32\n",
            "124/124 [==============================] - ETA: 0s - loss: 1.0182 - accuracy: 0.7803\n",
            "Epoch 14: val_accuracy did not improve from 0.84286\n",
            "124/124 [==============================] - 23s 187ms/step - loss: 1.0182 - accuracy: 0.7803 - val_loss: 1.4519 - val_accuracy: 0.7429\n",
            "Epoch 15/32\n",
            "124/124 [==============================] - ETA: 0s - loss: 1.1142 - accuracy: 0.7480\n",
            "Epoch 15: val_accuracy did not improve from 0.84286\n",
            "124/124 [==============================] - 25s 199ms/step - loss: 1.1142 - accuracy: 0.7480 - val_loss: 1.6613 - val_accuracy: 0.7000\n",
            "Epoch 16/32\n",
            "124/124 [==============================] - ETA: 0s - loss: 1.1479 - accuracy: 0.7674\n",
            "Epoch 16: val_accuracy did not improve from 0.84286\n",
            "124/124 [==============================] - 24s 189ms/step - loss: 1.1479 - accuracy: 0.7674 - val_loss: 0.9132 - val_accuracy: 0.8429\n",
            "Epoch 17/32\n",
            "124/124 [==============================] - ETA: 0s - loss: 0.9554 - accuracy: 0.7997\n",
            "Epoch 17: val_accuracy did not improve from 0.84286\n",
            "124/124 [==============================] - 24s 189ms/step - loss: 0.9554 - accuracy: 0.7997 - val_loss: 1.4660 - val_accuracy: 0.7286\n",
            "Epoch 18/32\n",
            "124/124 [==============================] - ETA: 0s - loss: 0.9576 - accuracy: 0.7900\n",
            "Epoch 18: val_accuracy did not improve from 0.84286\n",
            "124/124 [==============================] - 24s 189ms/step - loss: 0.9576 - accuracy: 0.7900 - val_loss: 1.2139 - val_accuracy: 0.7714\n",
            "Epoch 19/32\n",
            "124/124 [==============================] - ETA: 0s - loss: 0.9532 - accuracy: 0.7932\n",
            "Epoch 19: val_accuracy did not improve from 0.84286\n",
            "124/124 [==============================] - 24s 190ms/step - loss: 0.9532 - accuracy: 0.7932 - val_loss: 0.8498 - val_accuracy: 0.8429\n",
            "Epoch 20/32\n",
            "124/124 [==============================] - ETA: 0s - loss: 0.6322 - accuracy: 0.8578\n",
            "Epoch 20: val_accuracy did not improve from 0.84286\n",
            "124/124 [==============================] - 24s 191ms/step - loss: 0.6322 - accuracy: 0.8578 - val_loss: 1.0163 - val_accuracy: 0.7857\n",
            "Epoch 21/32\n",
            "124/124 [==============================] - ETA: 0s - loss: 0.8756 - accuracy: 0.8174\n",
            "Epoch 21: val_accuracy did not improve from 0.84286\n",
            "124/124 [==============================] - 24s 191ms/step - loss: 0.8756 - accuracy: 0.8174 - val_loss: 2.4183 - val_accuracy: 0.6286\n",
            "Epoch 22/32\n",
            "124/124 [==============================] - ETA: 0s - loss: 1.0751 - accuracy: 0.8126\n",
            "Epoch 22: val_accuracy did not improve from 0.84286\n",
            "124/124 [==============================] - 24s 190ms/step - loss: 1.0751 - accuracy: 0.8126 - val_loss: 0.8557 - val_accuracy: 0.8286\n",
            "Epoch 23/32\n",
            "124/124 [==============================] - ETA: 0s - loss: 0.6291 - accuracy: 0.8320\n",
            "Epoch 23: val_accuracy improved from 0.84286 to 0.87143, saving model to ./ct_vgg_best_model.hdf5\n",
            "124/124 [==============================] - 24s 192ms/step - loss: 0.6291 - accuracy: 0.8320 - val_loss: 0.7854 - val_accuracy: 0.8714\n",
            "Epoch 24/32\n",
            "124/124 [==============================] - ETA: 0s - loss: 0.9024 - accuracy: 0.7997\n",
            "Epoch 24: val_accuracy did not improve from 0.87143\n",
            "124/124 [==============================] - 24s 190ms/step - loss: 0.9024 - accuracy: 0.7997 - val_loss: 1.1218 - val_accuracy: 0.7714\n",
            "Epoch 25/32\n",
            "124/124 [==============================] - ETA: 0s - loss: 1.1010 - accuracy: 0.7948\n",
            "Epoch 25: val_accuracy did not improve from 0.87143\n",
            "124/124 [==============================] - 24s 190ms/step - loss: 1.1010 - accuracy: 0.7948 - val_loss: 1.1882 - val_accuracy: 0.7714\n",
            "Epoch 26/32\n",
            "124/124 [==============================] - ETA: 0s - loss: 1.1713 - accuracy: 0.8078\n",
            "Epoch 26: val_accuracy did not improve from 0.87143\n",
            "124/124 [==============================] - 24s 192ms/step - loss: 1.1713 - accuracy: 0.8078 - val_loss: 0.8810 - val_accuracy: 0.8286\n",
            "Epoch 27/32\n",
            "124/124 [==============================] - ETA: 0s - loss: 0.5497 - accuracy: 0.8756\n",
            "Epoch 27: val_accuracy did not improve from 0.87143\n",
            "124/124 [==============================] - 24s 189ms/step - loss: 0.5497 - accuracy: 0.8756 - val_loss: 1.2567 - val_accuracy: 0.7714\n",
            "Epoch 28/32\n",
            "124/124 [==============================] - ETA: 0s - loss: 0.6566 - accuracy: 0.8320\n",
            "Epoch 28: val_accuracy did not improve from 0.87143\n",
            "124/124 [==============================] - 24s 189ms/step - loss: 0.6566 - accuracy: 0.8320 - val_loss: 1.7588 - val_accuracy: 0.7286\n",
            "Epoch 29/32\n",
            "124/124 [==============================] - ETA: 0s - loss: 0.6285 - accuracy: 0.8643\n",
            "Epoch 29: val_accuracy did not improve from 0.87143\n",
            "124/124 [==============================] - 23s 188ms/step - loss: 0.6285 - accuracy: 0.8643 - val_loss: 0.9315 - val_accuracy: 0.8000\n",
            "Epoch 30/32\n",
            "124/124 [==============================] - ETA: 0s - loss: 0.9963 - accuracy: 0.7916\n",
            "Epoch 30: val_accuracy did not improve from 0.87143\n",
            "124/124 [==============================] - 23s 189ms/step - loss: 0.9963 - accuracy: 0.7916 - val_loss: 1.2271 - val_accuracy: 0.8286\n",
            "Epoch 31/32\n",
            "124/124 [==============================] - ETA: 0s - loss: 0.9074 - accuracy: 0.8174\n",
            "Epoch 31: val_accuracy did not improve from 0.87143\n",
            "124/124 [==============================] - 24s 190ms/step - loss: 0.9074 - accuracy: 0.8174 - val_loss: 2.2562 - val_accuracy: 0.6857\n",
            "Epoch 32/32\n",
            "124/124 [==============================] - ETA: 0s - loss: 0.9064 - accuracy: 0.8126\n",
            "Epoch 32: val_accuracy did not improve from 0.87143\n",
            "124/124 [==============================] - 24s 190ms/step - loss: 0.9064 - accuracy: 0.8126 - val_loss: 3.0393 - val_accuracy: 0.6857\n"
          ]
        }
      ],
      "source": [
        "# Fitting the Model\n",
        "vgg = vgg_model.fit(\n",
        "    train_data,\n",
        "    steps_per_epoch = train_data.samples//train_data.batch_size,\n",
        "    epochs = 32,\n",
        "    validation_data = val_data,\n",
        "    validation_steps = val_data.samples//val_data.batch_size,\n",
        "    callbacks = call_back\n",
        "    )"
      ]
    },
    {
      "cell_type": "code",
      "execution_count": null,
      "metadata": {
        "execution": {
          "iopub.execute_input": "2022-01-13T13:09:49.099232Z",
          "iopub.status.busy": "2022-01-13T13:09:49.098977Z",
          "iopub.status.idle": "2022-01-13T13:09:49.343411Z",
          "shell.execute_reply": "2022-01-13T13:09:49.342652Z",
          "shell.execute_reply.started": "2022-01-13T13:09:49.099202Z"
        },
        "id": "b4uTgMGYnAyi"
      },
      "outputs": [],
      "source": [
        "# Loading the Best Fit Model\n",
        "model = load_model(\"./ct_vgg_best_model.hdf5\")"
      ]
    },
    {
      "cell_type": "code",
      "execution_count": null,
      "metadata": {
        "execution": {
          "iopub.execute_input": "2022-01-13T13:09:51.653498Z",
          "iopub.status.busy": "2022-01-13T13:09:51.653227Z",
          "iopub.status.idle": "2022-01-13T13:09:54.408967Z",
          "shell.execute_reply": "2022-01-13T13:09:54.4082Z",
          "shell.execute_reply.started": "2022-01-13T13:09:51.653468Z"
        },
        "id": "m000PmF3nAyi",
        "colab": {
          "base_uri": "https://localhost:8080/"
        },
        "outputId": "cf672811-0623-4c82-8469-aa87acee7d5b"
      },
      "outputs": [
        {
          "output_type": "stream",
          "name": "stdout",
          "text": [
            "The accuracy of the model is = 75.87301731109619 %\n"
          ]
        }
      ],
      "source": [
        "# Checking the Accuracy of the Model\n",
        "accuracy_vgg = model.evaluate_generator(generator= test_data)[1]\n",
        "print(f\"The accuracy of the model is = {accuracy_vgg*100} %\")"
      ]
    },
    {
      "cell_type": "code",
      "execution_count": null,
      "metadata": {
        "execution": {
          "iopub.execute_input": "2022-01-13T13:09:58.530792Z",
          "iopub.status.busy": "2022-01-13T13:09:58.529899Z",
          "iopub.status.idle": "2022-01-13T13:09:58.535965Z",
          "shell.execute_reply": "2022-01-13T13:09:58.535148Z",
          "shell.execute_reply.started": "2022-01-13T13:09:58.530754Z"
        },
        "id": "-xBQQ_PdnAyi",
        "colab": {
          "base_uri": "https://localhost:8080/"
        },
        "outputId": "9aed9511-878b-42c8-897d-e7ef506ceed9"
      },
      "outputs": [
        {
          "output_type": "execute_result",
          "data": {
            "text/plain": [
              "dict_keys(['loss', 'accuracy', 'val_loss', 'val_accuracy'])"
            ]
          },
          "metadata": {},
          "execution_count": 25
        }
      ],
      "source": [
        "vgg.history.keys()"
      ]
    },
    {
      "cell_type": "code",
      "execution_count": null,
      "metadata": {
        "execution": {
          "iopub.execute_input": "2022-01-13T13:10:02.01703Z",
          "iopub.status.busy": "2022-01-13T13:10:02.016339Z",
          "iopub.status.idle": "2022-01-13T13:10:02.422856Z",
          "shell.execute_reply": "2022-01-13T13:10:02.42218Z",
          "shell.execute_reply.started": "2022-01-13T13:10:02.016995Z"
        },
        "id": "sWsWQI8onAyi",
        "colab": {
          "base_uri": "https://localhost:8080/",
          "height": 369
        },
        "outputId": "a4e6e5c3-c496-43f7-97f0-c0a9c81b4c6b"
      },
      "outputs": [
        {
          "output_type": "display_data",
          "data": {
            "text/plain": [
              "<Figure size 1080x360 with 2 Axes>"
            ],
            "image/png": "[encoded data removed]"
          },
          "metadata": {
            "needs_background": "light"
          }
        }
      ],
      "source": [
        "# Plot model performance\n",
        "acc = vgg.history['accuracy']\n",
        "val_acc = vgg.history['val_accuracy']\n",
        "loss = vgg.history['loss']\n",
        "val_loss = vgg.history['val_loss']\n",
        "epochs_range = range(1, len(vgg.epoch) + 1)\n",
        "\n",
        "plt.figure(figsize=(15,5))\n",
        "\n",
        "plt.subplot(1, 2, 1)\n",
        "plt.plot(epochs_range, acc, label='Train Set')\n",
        "plt.plot(epochs_range, val_acc, label='Val Set')\n",
        "plt.legend(loc=\"best\")\n",
        "plt.xlabel('Epochs')\n",
        "plt.ylabel('Accuracy')\n",
        "plt.title('Model Accuracy')\n",
        "\n",
        "plt.subplot(1, 2, 2)\n",
        "plt.plot(epochs_range, loss, label='Train Set')\n",
        "plt.plot(epochs_range, val_loss, label='Val Set')\n",
        "plt.legend(loc=\"best\")\n",
        "plt.xlabel('Epochs')\n",
        "plt.ylabel('Loss')\n",
        "plt.title('Model Loss')\n",
        "\n",
        "plt.tight_layout()\n",
        "plt.show()"
      ]
    },
    {
      "cell_type": "markdown",
      "metadata": {
        "id": "iTSG4we-nAyj"
      },
      "source": [
        "## Inceptionv3 Model"
      ]
    },
    {
      "cell_type": "code",
      "execution_count": null,
      "metadata": {
        "execution": {
          "iopub.execute_input": "2022-01-13T13:10:06.72543Z",
          "iopub.status.busy": "2022-01-13T13:10:06.725159Z",
          "iopub.status.idle": "2022-01-13T13:10:09.383221Z",
          "shell.execute_reply": "2022-01-13T13:10:09.382504Z",
          "shell.execute_reply.started": "2022-01-13T13:10:06.72538Z"
        },
        "id": "gW2U6iJPnAyj"
      },
      "outputs": [],
      "source": [
        "from tensorflow.keras.applications.inception_v3 import InceptionV3\n",
        "\n",
        "base_model = InceptionV3(input_shape = (350, 350, 3),\n",
        "                         include_top = False,\n",
        "                         weights = 'imagenet')"
      ]
    },
    {
      "cell_type": "code",
      "execution_count": null,
      "metadata": {
        "execution": {
          "iopub.execute_input": "2022-01-13T13:10:13.575698Z",
          "iopub.status.busy": "2022-01-13T13:10:13.57525Z",
          "iopub.status.idle": "2022-01-13T13:10:13.590269Z",
          "shell.execute_reply": "2022-01-13T13:10:13.588254Z",
          "shell.execute_reply.started": "2022-01-13T13:10:13.575659Z"
        },
        "id": "uwFBGDLNnAyj"
      },
      "outputs": [],
      "source": [
        "for layer in base_model.layers:\n",
        "    layer.trainable = False"
      ]
    },
    {
      "cell_type": "code",
      "execution_count": null,
      "metadata": {
        "execution": {
          "iopub.execute_input": "2022-01-13T13:10:16.75138Z",
          "iopub.status.busy": "2022-01-13T13:10:16.751116Z",
          "iopub.status.idle": "2022-01-13T13:10:16.803066Z",
          "shell.execute_reply": "2022-01-13T13:10:16.80241Z",
          "shell.execute_reply.started": "2022-01-13T13:10:16.751349Z"
        },
        "id": "aUYhyT1wnAyj"
      },
      "outputs": [],
      "source": [
        "x = layers.Flatten()(base_model.output)\n",
        "x = layers.Dense(1024, activation='relu')(x)\n",
        "x = layers.Dropout(0.2)(x)\n",
        "\n",
        "# Add a final sigmoid layer with 4 node for classification output\n",
        "x = layers.Dense(4, activation='sigmoid')(x)\n",
        "\n",
        "model_incep = tf.keras.models.Model(base_model.input, x)\n",
        "\n",
        "model_incep.compile(optimizer = tensorflow.keras.optimizers.RMSprop(learning_rate=0.0001),\n",
        "                    loss = 'categorical_crossentropy',\n",
        "                    metrics = ['accuracy'])"
      ]
    },
    {
      "cell_type": "code",
      "execution_count": null,
      "metadata": {
        "execution": {
          "iopub.execute_input": "2022-01-13T13:10:19.930105Z",
          "iopub.status.busy": "2022-01-13T13:10:19.929714Z",
          "iopub.status.idle": "2022-01-13T13:10:19.934768Z",
          "shell.execute_reply": "2022-01-13T13:10:19.934098Z",
          "shell.execute_reply.started": "2022-01-13T13:10:19.93007Z"
        },
        "id": "0Co3DnoInAyj"
      },
      "outputs": [],
      "source": [
        "# Adding Model check point Callback\n",
        "\n",
        "mc = ModelCheckpoint(\n",
        "    filepath=\"./ct_incep_best_model.hdf5\",\n",
        "    monitor= 'val_accuracy',\n",
        "    verbose= 1,\n",
        "    save_best_only= True,\n",
        "    mode = 'auto'\n",
        "    );\n",
        "\n",
        "call_back = [mc];"
      ]
    },
    {
      "cell_type": "code",
      "execution_count": null,
      "metadata": {
        "execution": {
          "iopub.execute_input": "2022-01-13T13:10:23.133479Z",
          "iopub.status.busy": "2022-01-13T13:10:23.133173Z",
          "iopub.status.idle": "2022-01-13T13:24:11.782076Z",
          "shell.execute_reply": "2022-01-13T13:24:11.781267Z",
          "shell.execute_reply.started": "2022-01-13T13:10:23.133429Z"
        },
        "id": "B_WQV9ITnAyk",
        "colab": {
          "base_uri": "https://localhost:8080/"
        },
        "outputId": "673a580d-dd6f-4d67-92b6-b3199d46b2aa"
      },
      "outputs": [
        {
          "output_type": "stream",
          "name": "stdout",
          "text": [
            "Epoch 1/32\n",
            "124/124 [==============================] - ETA: 0s - loss: 8.5475 - accuracy: 0.4540\n",
            "Epoch 1: val_accuracy improved from -inf to 0.48571, saving model to ./ct_incep_best_model.hdf5\n",
            "124/124 [==============================] - 39s 269ms/step - loss: 8.5475 - accuracy: 0.4540 - val_loss: 6.3867 - val_accuracy: 0.4857\n",
            "Epoch 2/32\n",
            "124/124 [==============================] - ETA: 0s - loss: 4.0279 - accuracy: 0.5363\n",
            "Epoch 2: val_accuracy did not improve from 0.48571\n",
            "124/124 [==============================] - 24s 190ms/step - loss: 4.0279 - accuracy: 0.5363 - val_loss: 5.8193 - val_accuracy: 0.4571\n",
            "Epoch 3/32\n",
            "124/124 [==============================] - ETA: 0s - loss: 2.2744 - accuracy: 0.6058\n",
            "Epoch 3: val_accuracy improved from 0.48571 to 0.62857, saving model to ./ct_incep_best_model.hdf5\n",
            "124/124 [==============================] - 30s 242ms/step - loss: 2.2744 - accuracy: 0.6058 - val_loss: 1.8173 - val_accuracy: 0.6286\n",
            "Epoch 4/32\n",
            "124/124 [==============================] - ETA: 0s - loss: 1.4357 - accuracy: 0.6042\n",
            "Epoch 4: val_accuracy did not improve from 0.62857\n",
            "124/124 [==============================] - 24s 190ms/step - loss: 1.4357 - accuracy: 0.6042 - val_loss: 1.5078 - val_accuracy: 0.4857\n",
            "Epoch 5/32\n",
            "124/124 [==============================] - ETA: 0s - loss: 1.2013 - accuracy: 0.6494\n",
            "Epoch 5: val_accuracy improved from 0.62857 to 0.78571, saving model to ./ct_incep_best_model.hdf5\n",
            "124/124 [==============================] - 30s 240ms/step - loss: 1.2013 - accuracy: 0.6494 - val_loss: 0.5428 - val_accuracy: 0.7857\n",
            "Epoch 6/32\n",
            "124/124 [==============================] - ETA: 0s - loss: 0.9002 - accuracy: 0.7157\n",
            "Epoch 6: val_accuracy did not improve from 0.78571\n",
            "124/124 [==============================] - 24s 191ms/step - loss: 0.9002 - accuracy: 0.7157 - val_loss: 0.8009 - val_accuracy: 0.6143\n",
            "Epoch 7/32\n",
            "124/124 [==============================] - ETA: 0s - loss: 0.9361 - accuracy: 0.7270\n",
            "Epoch 7: val_accuracy did not improve from 0.78571\n",
            "124/124 [==============================] - 24s 191ms/step - loss: 0.9361 - accuracy: 0.7270 - val_loss: 1.3073 - val_accuracy: 0.5429\n",
            "Epoch 8/32\n",
            "124/124 [==============================] - ETA: 0s - loss: 0.9441 - accuracy: 0.6898\n",
            "Epoch 8: val_accuracy did not improve from 0.78571\n",
            "124/124 [==============================] - 24s 190ms/step - loss: 0.9441 - accuracy: 0.6898 - val_loss: 1.1274 - val_accuracy: 0.5429\n",
            "Epoch 9/32\n",
            "124/124 [==============================] - ETA: 0s - loss: 0.8884 - accuracy: 0.7496\n",
            "Epoch 9: val_accuracy did not improve from 0.78571\n",
            "124/124 [==============================] - 25s 202ms/step - loss: 0.8884 - accuracy: 0.7496 - val_loss: 1.0910 - val_accuracy: 0.6714\n",
            "Epoch 10/32\n",
            "124/124 [==============================] - ETA: 0s - loss: 0.7649 - accuracy: 0.7658\n",
            "Epoch 10: val_accuracy did not improve from 0.78571\n",
            "124/124 [==============================] - 24s 191ms/step - loss: 0.7649 - accuracy: 0.7658 - val_loss: 0.6045 - val_accuracy: 0.7857\n",
            "Epoch 11/32\n",
            "124/124 [==============================] - ETA: 0s - loss: 0.8196 - accuracy: 0.7641\n",
            "Epoch 11: val_accuracy did not improve from 0.78571\n",
            "124/124 [==============================] - 24s 191ms/step - loss: 0.8196 - accuracy: 0.7641 - val_loss: 0.6852 - val_accuracy: 0.7286\n",
            "Epoch 12/32\n",
            "124/124 [==============================] - ETA: 0s - loss: 0.7007 - accuracy: 0.7835\n",
            "Epoch 12: val_accuracy did not improve from 0.78571\n",
            "124/124 [==============================] - 24s 191ms/step - loss: 0.7007 - accuracy: 0.7835 - val_loss: 0.6506 - val_accuracy: 0.7429\n",
            "Epoch 13/32\n",
            "124/124 [==============================] - ETA: 0s - loss: 0.7288 - accuracy: 0.7641\n",
            "Epoch 13: val_accuracy did not improve from 0.78571\n",
            "124/124 [==============================] - 24s 190ms/step - loss: 0.7288 - accuracy: 0.7641 - val_loss: 0.6820 - val_accuracy: 0.7714\n",
            "Epoch 14/32\n",
            "124/124 [==============================] - ETA: 0s - loss: 0.6929 - accuracy: 0.7981\n",
            "Epoch 14: val_accuracy did not improve from 0.78571\n",
            "124/124 [==============================] - 24s 190ms/step - loss: 0.6929 - accuracy: 0.7981 - val_loss: 3.3229 - val_accuracy: 0.4857\n",
            "Epoch 15/32\n",
            "124/124 [==============================] - ETA: 0s - loss: 0.7309 - accuracy: 0.8029\n",
            "Epoch 15: val_accuracy did not improve from 0.78571\n",
            "124/124 [==============================] - 24s 192ms/step - loss: 0.7309 - accuracy: 0.8029 - val_loss: 1.5947 - val_accuracy: 0.6143\n",
            "Epoch 16/32\n",
            "124/124 [==============================] - ETA: 0s - loss: 0.6565 - accuracy: 0.7964\n",
            "Epoch 16: val_accuracy improved from 0.78571 to 0.82857, saving model to ./ct_incep_best_model.hdf5\n",
            "124/124 [==============================] - 30s 244ms/step - loss: 0.6565 - accuracy: 0.7964 - val_loss: 0.5086 - val_accuracy: 0.8286\n",
            "Epoch 17/32\n",
            "124/124 [==============================] - ETA: 0s - loss: 0.5952 - accuracy: 0.8223\n",
            "Epoch 17: val_accuracy did not improve from 0.82857\n",
            "124/124 [==============================] - 25s 205ms/step - loss: 0.5952 - accuracy: 0.8223 - val_loss: 1.1700 - val_accuracy: 0.6857\n",
            "Epoch 18/32\n",
            "124/124 [==============================] - ETA: 0s - loss: 0.7502 - accuracy: 0.8174\n",
            "Epoch 18: val_accuracy did not improve from 0.82857\n",
            "124/124 [==============================] - 24s 192ms/step - loss: 0.7502 - accuracy: 0.8174 - val_loss: 0.6888 - val_accuracy: 0.7571\n",
            "Epoch 19/32\n",
            "124/124 [==============================] - ETA: 0s - loss: 0.6476 - accuracy: 0.8352\n",
            "Epoch 19: val_accuracy improved from 0.82857 to 0.85714, saving model to ./ct_incep_best_model.hdf5\n",
            "124/124 [==============================] - 30s 243ms/step - loss: 0.6476 - accuracy: 0.8352 - val_loss: 0.3987 - val_accuracy: 0.8571\n",
            "Epoch 20/32\n",
            "124/124 [==============================] - ETA: 0s - loss: 0.5420 - accuracy: 0.8449\n",
            "Epoch 20: val_accuracy did not improve from 0.85714\n",
            "124/124 [==============================] - 24s 189ms/step - loss: 0.5420 - accuracy: 0.8449 - val_loss: 1.2318 - val_accuracy: 0.7000\n",
            "Epoch 21/32\n",
            "124/124 [==============================] - ETA: 0s - loss: 0.5780 - accuracy: 0.8433\n",
            "Epoch 21: val_accuracy did not improve from 0.85714\n",
            "124/124 [==============================] - 24s 189ms/step - loss: 0.5780 - accuracy: 0.8433 - val_loss: 0.4676 - val_accuracy: 0.8286\n",
            "Epoch 22/32\n",
            "124/124 [==============================] - ETA: 0s - loss: 0.6928 - accuracy: 0.8207\n",
            "Epoch 22: val_accuracy did not improve from 0.85714\n",
            "124/124 [==============================] - 24s 190ms/step - loss: 0.6928 - accuracy: 0.8207 - val_loss: 0.8605 - val_accuracy: 0.7429\n",
            "Epoch 23/32\n",
            "124/124 [==============================] - ETA: 0s - loss: 0.5435 - accuracy: 0.8352\n",
            "Epoch 23: val_accuracy improved from 0.85714 to 0.88571, saving model to ./ct_incep_best_model.hdf5\n",
            "124/124 [==============================] - 30s 242ms/step - loss: 0.5435 - accuracy: 0.8352 - val_loss: 0.3201 - val_accuracy: 0.8857\n",
            "Epoch 24/32\n",
            "124/124 [==============================] - ETA: 0s - loss: 0.4627 - accuracy: 0.8756\n",
            "Epoch 24: val_accuracy improved from 0.88571 to 0.91429, saving model to ./ct_incep_best_model.hdf5\n",
            "124/124 [==============================] - 31s 248ms/step - loss: 0.4627 - accuracy: 0.8756 - val_loss: 0.2148 - val_accuracy: 0.9143\n",
            "Epoch 25/32\n",
            "124/124 [==============================] - ETA: 0s - loss: 0.4933 - accuracy: 0.8417\n",
            "Epoch 25: val_accuracy did not improve from 0.91429\n",
            "124/124 [==============================] - 24s 190ms/step - loss: 0.4933 - accuracy: 0.8417 - val_loss: 0.8038 - val_accuracy: 0.7714\n",
            "Epoch 26/32\n",
            "124/124 [==============================] - ETA: 0s - loss: 0.5407 - accuracy: 0.8481\n",
            "Epoch 26: val_accuracy did not improve from 0.91429\n",
            "124/124 [==============================] - 25s 200ms/step - loss: 0.5407 - accuracy: 0.8481 - val_loss: 0.4046 - val_accuracy: 0.8429\n",
            "Epoch 27/32\n",
            "124/124 [==============================] - ETA: 0s - loss: 0.4935 - accuracy: 0.8675\n",
            "Epoch 27: val_accuracy did not improve from 0.91429\n",
            "124/124 [==============================] - 24s 192ms/step - loss: 0.4935 - accuracy: 0.8675 - val_loss: 0.6682 - val_accuracy: 0.7000\n",
            "Epoch 28/32\n",
            "124/124 [==============================] - ETA: 0s - loss: 0.4620 - accuracy: 0.8514\n",
            "Epoch 28: val_accuracy did not improve from 0.91429\n",
            "124/124 [==============================] - 25s 205ms/step - loss: 0.4620 - accuracy: 0.8514 - val_loss: 0.4058 - val_accuracy: 0.8571\n",
            "Epoch 29/32\n",
            "124/124 [==============================] - ETA: 0s - loss: 0.3811 - accuracy: 0.8950\n",
            "Epoch 29: val_accuracy did not improve from 0.91429\n",
            "124/124 [==============================] - 24s 192ms/step - loss: 0.3811 - accuracy: 0.8950 - val_loss: 0.3029 - val_accuracy: 0.8714\n",
            "Epoch 30/32\n",
            "124/124 [==============================] - ETA: 0s - loss: 0.4848 - accuracy: 0.8869\n",
            "Epoch 30: val_accuracy did not improve from 0.91429\n",
            "124/124 [==============================] - 24s 192ms/step - loss: 0.4848 - accuracy: 0.8869 - val_loss: 0.5873 - val_accuracy: 0.8429\n",
            "Epoch 31/32\n",
            "124/124 [==============================] - ETA: 0s - loss: 0.3856 - accuracy: 0.8740\n",
            "Epoch 31: val_accuracy did not improve from 0.91429\n",
            "124/124 [==============================] - 25s 197ms/step - loss: 0.3856 - accuracy: 0.8740 - val_loss: 0.6520 - val_accuracy: 0.8143\n",
            "Epoch 32/32\n",
            "124/124 [==============================] - ETA: 0s - loss: 0.3922 - accuracy: 0.8869\n",
            "Epoch 32: val_accuracy improved from 0.91429 to 0.95714, saving model to ./ct_incep_best_model.hdf5\n",
            "124/124 [==============================] - 33s 265ms/step - loss: 0.3922 - accuracy: 0.8869 - val_loss: 0.1150 - val_accuracy: 0.9571\n"
          ]
        }
      ],
      "source": [
        "# Fitting the Model\n",
        "incep = model_incep.fit(\n",
        "    train_data,\n",
        "    steps_per_epoch = train_data.samples//train_data.batch_size,\n",
        "    epochs = 32,\n",
        "    validation_data = val_data,\n",
        "    validation_steps = val_data.samples//val_data.batch_size,\n",
        "    callbacks = call_back\n",
        "    )"
      ]
    },
    {
      "cell_type": "code",
      "execution_count": null,
      "metadata": {
        "execution": {
          "iopub.execute_input": "2022-01-13T13:24:17.2511Z",
          "iopub.status.busy": "2022-01-13T13:24:17.250581Z",
          "iopub.status.idle": "2022-01-13T13:24:22.857224Z",
          "shell.execute_reply": "2022-01-13T13:24:22.856448Z",
          "shell.execute_reply.started": "2022-01-13T13:24:17.251065Z"
        },
        "id": "ELEYvSENnAyk"
      },
      "outputs": [],
      "source": [
        "# Loading the Best Fit Model\n",
        "model = load_model(\"./ct_incep_best_model.hdf5\")"
      ]
    },
    {
      "cell_type": "code",
      "execution_count": null,
      "metadata": {
        "execution": {
          "iopub.execute_input": "2022-01-13T13:24:24.986244Z",
          "iopub.status.busy": "2022-01-13T13:24:24.985972Z",
          "iopub.status.idle": "2022-01-13T13:24:28.887867Z",
          "shell.execute_reply": "2022-01-13T13:24:28.887075Z",
          "shell.execute_reply.started": "2022-01-13T13:24:24.986214Z"
        },
        "id": "5feEkEMHnAyk",
        "colab": {
          "base_uri": "https://localhost:8080/"
        },
        "outputId": "853e0f3e-0509-4936-888e-14ee6e0fcbcf"
      },
      "outputs": [
        {
          "output_type": "stream",
          "name": "stdout",
          "text": [
            "The accuracy of the model is = 83.49206447601318 %\n"
          ]
        }
      ],
      "source": [
        "# Checking the Accuracy of the Model\n",
        "accuracy_incep = model.evaluate_generator(generator= test_data)[1]\n",
        "print(f\"The accuracy of the model is = {accuracy_incep*100} %\")"
      ]
    },
    {
      "cell_type": "code",
      "execution_count": null,
      "metadata": {
        "execution": {
          "iopub.execute_input": "2022-01-13T13:24:32.77629Z",
          "iopub.status.busy": "2022-01-13T13:24:32.776016Z",
          "iopub.status.idle": "2022-01-13T13:24:32.782108Z",
          "shell.execute_reply": "2022-01-13T13:24:32.78138Z",
          "shell.execute_reply.started": "2022-01-13T13:24:32.776259Z"
        },
        "id": "-3Z-h8eXnAyl",
        "colab": {
          "base_uri": "https://localhost:8080/"
        },
        "outputId": "58ad7aeb-f6cd-4d16-c89e-4a65e13de77d"
      },
      "outputs": [
        {
          "output_type": "execute_result",
          "data": {
            "text/plain": [
              "dict_keys(['loss', 'accuracy', 'val_loss', 'val_accuracy'])"
            ]
          },
          "metadata": {},
          "execution_count": 34
        }
      ],
      "source": [
        "incep.history.keys()"
      ]
    },
    {
      "cell_type": "code",
      "execution_count": null,
      "metadata": {
        "execution": {
          "iopub.execute_input": "2022-01-13T13:24:36.133975Z",
          "iopub.status.busy": "2022-01-13T13:24:36.133384Z",
          "iopub.status.idle": "2022-01-13T13:24:36.549887Z",
          "shell.execute_reply": "2022-01-13T13:24:36.549161Z",
          "shell.execute_reply.started": "2022-01-13T13:24:36.133938Z"
        },
        "id": "lL1F8QIJnAyl",
        "colab": {
          "base_uri": "https://localhost:8080/",
          "height": 369
        },
        "outputId": "303959d1-d1ca-4b9c-cb92-e2ca1d04a7e5"
      },
      "outputs": [
        {
          "output_type": "display_data",
          "data": {
            "text/plain": [
              "<Figure size 1080x360 with 2 Axes>"
            ],
            "image/png": "[encoded data removed]"
          },
          "metadata": {
            "needs_background": "light"
          }
        }
      ],
      "source": [
        "# Plot model performance\n",
        "acc = incep.history['accuracy']\n",
        "val_acc = incep.history['val_accuracy']\n",
        "loss = incep.history['loss']\n",
        "val_loss = incep.history['val_loss']\n",
        "epochs_range = range(1, len(incep.epoch) + 1)\n",
        "\n",
        "plt.figure(figsize=(15,5))\n",
        "\n",
        "plt.subplot(1, 2, 1)\n",
        "plt.plot(epochs_range, acc, label='Train Set')\n",
        "plt.plot(epochs_range, val_acc, label='Val Set')\n",
        "plt.legend(loc=\"best\")\n",
        "plt.xlabel('Epochs')\n",
        "plt.ylabel('Accuracy')\n",
        "plt.title('Model Accuracy')\n",
        "\n",
        "plt.subplot(1, 2, 2)\n",
        "plt.plot(epochs_range, loss, label='Train Set')\n",
        "plt.plot(epochs_range, val_loss, label='Val Set')\n",
        "plt.legend(loc=\"best\")\n",
        "plt.xlabel('Epochs')\n",
        "plt.ylabel('Loss')\n",
        "plt.title('Model Loss')\n",
        "\n",
        "plt.tight_layout()\n",
        "plt.show()"
      ]
    },
    {
      "cell_type": "markdown",
      "metadata": {
        "id": "byxZOg3dnAyl"
      },
      "source": [
        "## RestNet50 Model"
      ]
    },
    {
      "cell_type": "code",
      "execution_count": null,
      "metadata": {
        "execution": {
          "iopub.execute_input": "2022-01-13T13:24:40.178107Z",
          "iopub.status.busy": "2022-01-13T13:24:40.17785Z",
          "iopub.status.idle": "2022-01-13T13:24:42.249957Z",
          "shell.execute_reply": "2022-01-13T13:24:42.249082Z",
          "shell.execute_reply.started": "2022-01-13T13:24:40.178079Z"
        },
        "id": "Xy7qibirnAyl",
        "colab": {
          "base_uri": "https://localhost:8080/"
        },
        "outputId": "11a435cd-9e59-4a2b-9dca-f03c6a8d9eee"
      },
      "outputs": [
        {
          "output_type": "stream",
          "name": "stdout",
          "text": [
            "Downloading data from https://storage.googleapis.com/tensorflow/keras-applications/resnet/resnet50_weights_tf_dim_ordering_tf_kernels_notop.h5\n",
            "94765736/94765736 [==============================] - 5s 0us/step\n"
          ]
        }
      ],
      "source": [
        "from tensorflow.keras.applications import ResNet50\n",
        "\n",
        "base_model = ResNet50(input_shape=(350, 350,3),\n",
        "                      include_top=False, weights=\"imagenet\",\n",
        "                      pooling='max')"
      ]
    },
    {
      "cell_type": "code",
      "execution_count": null,
      "metadata": {
        "execution": {
          "iopub.execute_input": "2022-01-13T13:24:45.442754Z",
          "iopub.status.busy": "2022-01-13T13:24:45.442151Z",
          "iopub.status.idle": "2022-01-13T13:24:45.451664Z",
          "shell.execute_reply": "2022-01-13T13:24:45.451031Z",
          "shell.execute_reply.started": "2022-01-13T13:24:45.442713Z"
        },
        "id": "3yBDLJqUnAyl"
      },
      "outputs": [],
      "source": [
        "for layer in base_model.layers:\n",
        "    layer.trainable = False"
      ]
    },
    {
      "cell_type": "code",
      "execution_count": null,
      "metadata": {
        "execution": {
          "iopub.execute_input": "2022-01-13T13:24:48.648073Z",
          "iopub.status.busy": "2022-01-13T13:24:48.647526Z",
          "iopub.status.idle": "2022-01-13T13:24:49.019488Z",
          "shell.execute_reply": "2022-01-13T13:24:49.018787Z",
          "shell.execute_reply.started": "2022-01-13T13:24:48.648034Z"
        },
        "id": "Z-T6v-mOnAyl"
      },
      "outputs": [],
      "source": [
        "model_resnet = Sequential()\n",
        "model_resnet.add(base_model)\n",
        "model_resnet.add(Dense(4, activation='sigmoid'))"
      ]
    },
    {
      "cell_type": "code",
      "execution_count": null,
      "metadata": {
        "execution": {
          "iopub.execute_input": "2022-01-13T13:24:51.80697Z",
          "iopub.status.busy": "2022-01-13T13:24:51.806697Z",
          "iopub.status.idle": "2022-01-13T13:24:51.822331Z",
          "shell.execute_reply": "2022-01-13T13:24:51.82169Z",
          "shell.execute_reply.started": "2022-01-13T13:24:51.80694Z"
        },
        "id": "R3ZHR_2WnAyl"
      },
      "outputs": [],
      "source": [
        "model_resnet.compile(optimizer = tf.keras.optimizers.SGD(learning_rate=0.0001),\n",
        "                     loss = 'categorical_crossentropy',\n",
        "                     metrics = ['accuracy'])"
      ]
    },
    {
      "cell_type": "code",
      "execution_count": null,
      "metadata": {
        "execution": {
          "iopub.execute_input": "2022-01-13T13:24:53.934973Z",
          "iopub.status.busy": "2022-01-13T13:24:53.934269Z",
          "iopub.status.idle": "2022-01-13T13:24:53.939536Z",
          "shell.execute_reply": "2022-01-13T13:24:53.938658Z",
          "shell.execute_reply.started": "2022-01-13T13:24:53.934934Z"
        },
        "id": "Y_e_i18NnAym"
      },
      "outputs": [],
      "source": [
        "# Adding Model check point Callback\n",
        "\n",
        "mc = ModelCheckpoint(\n",
        "    filepath=\"./ct_resnet_best_model.hdf5\",\n",
        "    monitor= 'val_accuracy',\n",
        "    verbose= 1,\n",
        "    save_best_only= True,\n",
        "    mode = 'auto'\n",
        "    );\n",
        "\n",
        "call_back = [mc];"
      ]
    },
    {
      "cell_type": "code",
      "execution_count": null,
      "metadata": {
        "execution": {
          "iopub.execute_input": "2022-01-13T13:24:56.782727Z",
          "iopub.status.busy": "2022-01-13T13:24:56.782137Z",
          "iopub.status.idle": "2022-01-13T13:36:22.910993Z",
          "shell.execute_reply": "2022-01-13T13:36:22.909445Z",
          "shell.execute_reply.started": "2022-01-13T13:24:56.782687Z"
        },
        "id": "pdQ59ZomnAym",
        "colab": {
          "base_uri": "https://localhost:8080/"
        },
        "outputId": "5157032f-e05e-4be5-d455-1197d10ccc8e"
      },
      "outputs": [
        {
          "output_type": "stream",
          "name": "stdout",
          "text": [
            "Epoch 1/32\n",
            "124/124 [==============================] - ETA: 0s - loss: 0.5179 - accuracy: 0.8595\n",
            "Epoch 1: val_accuracy improved from -inf to 0.84286, saving model to ./ct_resnet_best_model.hdf5\n",
            "124/124 [==============================] - 33s 266ms/step - loss: 0.5179 - accuracy: 0.8595 - val_loss: 0.4770 - val_accuracy: 0.8429\n",
            "Epoch 2/32\n",
            "124/124 [==============================] - ETA: 0s - loss: 0.3975 - accuracy: 0.8885\n",
            "Epoch 2: val_accuracy improved from 0.84286 to 0.91429, saving model to ./ct_resnet_best_model.hdf5\n",
            "124/124 [==============================] - 32s 257ms/step - loss: 0.3975 - accuracy: 0.8885 - val_loss: 0.3780 - val_accuracy: 0.9143\n",
            "Epoch 3/32\n",
            "124/124 [==============================] - ETA: 0s - loss: 0.5268 - accuracy: 0.8756\n",
            "Epoch 3: val_accuracy did not improve from 0.91429\n",
            "124/124 [==============================] - 28s 229ms/step - loss: 0.5268 - accuracy: 0.8756 - val_loss: 0.5982 - val_accuracy: 0.8286\n",
            "Epoch 4/32\n",
            "124/124 [==============================] - ETA: 0s - loss: 0.5308 - accuracy: 0.8788\n",
            "Epoch 4: val_accuracy did not improve from 0.91429\n",
            "124/124 [==============================] - 25s 197ms/step - loss: 0.5308 - accuracy: 0.8788 - val_loss: 0.6689 - val_accuracy: 0.8286\n",
            "Epoch 5/32\n",
            "124/124 [==============================] - ETA: 0s - loss: 0.3994 - accuracy: 0.9015\n",
            "Epoch 5: val_accuracy did not improve from 0.91429\n",
            "124/124 [==============================] - 26s 211ms/step - loss: 0.3994 - accuracy: 0.9015 - val_loss: 0.2334 - val_accuracy: 0.9000\n",
            "Epoch 6/32\n",
            "124/124 [==============================] - ETA: 0s - loss: 0.4240 - accuracy: 0.8821\n",
            "Epoch 6: val_accuracy did not improve from 0.91429\n",
            "124/124 [==============================] - 25s 202ms/step - loss: 0.4240 - accuracy: 0.8821 - val_loss: 0.3875 - val_accuracy: 0.9000\n",
            "Epoch 7/32\n",
            "124/124 [==============================] - ETA: 0s - loss: 0.3892 - accuracy: 0.8982\n",
            "Epoch 7: val_accuracy did not improve from 0.91429\n",
            "124/124 [==============================] - 26s 207ms/step - loss: 0.3892 - accuracy: 0.8982 - val_loss: 0.3131 - val_accuracy: 0.9000\n",
            "Epoch 8/32\n",
            "124/124 [==============================] - ETA: 0s - loss: 0.4123 - accuracy: 0.8950\n",
            "Epoch 8: val_accuracy improved from 0.91429 to 0.92857, saving model to ./ct_resnet_best_model.hdf5\n",
            "124/124 [==============================] - 31s 250ms/step - loss: 0.4123 - accuracy: 0.8950 - val_loss: 0.1593 - val_accuracy: 0.9286\n",
            "Epoch 9/32\n",
            "124/124 [==============================] - ETA: 0s - loss: 0.4088 - accuracy: 0.8966\n",
            "Epoch 9: val_accuracy did not improve from 0.92857\n",
            "124/124 [==============================] - 28s 220ms/step - loss: 0.4088 - accuracy: 0.8966 - val_loss: 0.3751 - val_accuracy: 0.8857\n",
            "Epoch 10/32\n",
            "124/124 [==============================] - ETA: 0s - loss: 0.3734 - accuracy: 0.9047\n",
            "Epoch 10: val_accuracy did not improve from 0.92857\n",
            "124/124 [==============================] - 25s 197ms/step - loss: 0.3734 - accuracy: 0.9047 - val_loss: 0.5471 - val_accuracy: 0.8429\n",
            "Epoch 11/32\n",
            "124/124 [==============================] - ETA: 0s - loss: 0.3398 - accuracy: 0.9047\n",
            "Epoch 11: val_accuracy did not improve from 0.92857\n",
            "124/124 [==============================] - 26s 213ms/step - loss: 0.3398 - accuracy: 0.9047 - val_loss: 0.4649 - val_accuracy: 0.8571\n",
            "Epoch 12/32\n",
            "124/124 [==============================] - ETA: 0s - loss: 0.3438 - accuracy: 0.9031\n",
            "Epoch 12: val_accuracy did not improve from 0.92857\n",
            "124/124 [==============================] - 24s 193ms/step - loss: 0.3438 - accuracy: 0.9031 - val_loss: 0.3076 - val_accuracy: 0.9000\n",
            "Epoch 13/32\n",
            "124/124 [==============================] - ETA: 0s - loss: 0.3529 - accuracy: 0.9031\n",
            "Epoch 13: val_accuracy did not improve from 0.92857\n",
            "124/124 [==============================] - 24s 193ms/step - loss: 0.3529 - accuracy: 0.9031 - val_loss: 1.3070 - val_accuracy: 0.7143\n",
            "Epoch 14/32\n",
            "124/124 [==============================] - ETA: 0s - loss: 0.3523 - accuracy: 0.9176\n",
            "Epoch 14: val_accuracy did not improve from 0.92857\n",
            "124/124 [==============================] - 25s 199ms/step - loss: 0.3523 - accuracy: 0.9176 - val_loss: 1.0869 - val_accuracy: 0.6714\n",
            "Epoch 15/32\n",
            "124/124 [==============================] - ETA: 0s - loss: 0.2957 - accuracy: 0.9063\n",
            "Epoch 15: val_accuracy did not improve from 0.92857\n",
            "124/124 [==============================] - 24s 191ms/step - loss: 0.2957 - accuracy: 0.9063 - val_loss: 0.9758 - val_accuracy: 0.7857\n",
            "Epoch 16/32\n",
            "124/124 [==============================] - ETA: 0s - loss: 0.3403 - accuracy: 0.9079\n",
            "Epoch 16: val_accuracy did not improve from 0.92857\n",
            "124/124 [==============================] - 24s 192ms/step - loss: 0.3403 - accuracy: 0.9079 - val_loss: 1.2024 - val_accuracy: 0.7429\n",
            "Epoch 17/32\n",
            "124/124 [==============================] - ETA: 0s - loss: 0.3647 - accuracy: 0.8966\n",
            "Epoch 17: val_accuracy improved from 0.92857 to 0.94286, saving model to ./ct_resnet_best_model.hdf5\n",
            "124/124 [==============================] - 30s 243ms/step - loss: 0.3647 - accuracy: 0.8966 - val_loss: 0.1828 - val_accuracy: 0.9429\n",
            "Epoch 18/32\n",
            "124/124 [==============================] - ETA: 0s - loss: 0.3859 - accuracy: 0.9031\n",
            "Epoch 18: val_accuracy did not improve from 0.94286\n",
            "124/124 [==============================] - 24s 191ms/step - loss: 0.3859 - accuracy: 0.9031 - val_loss: 0.7699 - val_accuracy: 0.7571\n",
            "Epoch 19/32\n",
            "124/124 [==============================] - ETA: 0s - loss: 0.3755 - accuracy: 0.8901\n",
            "Epoch 19: val_accuracy improved from 0.94286 to 0.95714, saving model to ./ct_resnet_best_model.hdf5\n",
            "124/124 [==============================] - 30s 242ms/step - loss: 0.3755 - accuracy: 0.8901 - val_loss: 0.2350 - val_accuracy: 0.9571\n",
            "Epoch 20/32\n",
            "124/124 [==============================] - ETA: 0s - loss: 0.2816 - accuracy: 0.9321\n",
            "Epoch 20: val_accuracy did not improve from 0.95714\n",
            "124/124 [==============================] - 24s 190ms/step - loss: 0.2816 - accuracy: 0.9321 - val_loss: 0.5780 - val_accuracy: 0.8286\n",
            "Epoch 21/32\n",
            "124/124 [==============================] - ETA: 0s - loss: 0.3032 - accuracy: 0.9144\n",
            "Epoch 21: val_accuracy did not improve from 0.95714\n",
            "124/124 [==============================] - 24s 191ms/step - loss: 0.3032 - accuracy: 0.9144 - val_loss: 0.5914 - val_accuracy: 0.8571\n",
            "Epoch 22/32\n",
            "124/124 [==============================] - ETA: 0s - loss: 0.3609 - accuracy: 0.8998\n",
            "Epoch 22: val_accuracy did not improve from 0.95714\n",
            "124/124 [==============================] - 24s 192ms/step - loss: 0.3609 - accuracy: 0.8998 - val_loss: 0.1775 - val_accuracy: 0.9571\n",
            "Epoch 23/32\n",
            "124/124 [==============================] - ETA: 0s - loss: 0.4142 - accuracy: 0.8901\n",
            "Epoch 23: val_accuracy did not improve from 0.95714\n",
            "124/124 [==============================] - 24s 193ms/step - loss: 0.4142 - accuracy: 0.8901 - val_loss: 0.2680 - val_accuracy: 0.9143\n",
            "Epoch 24/32\n",
            "124/124 [==============================] - ETA: 0s - loss: 0.3044 - accuracy: 0.9160\n",
            "Epoch 24: val_accuracy did not improve from 0.95714\n",
            "124/124 [==============================] - 24s 191ms/step - loss: 0.3044 - accuracy: 0.9160 - val_loss: 0.3894 - val_accuracy: 0.8857\n",
            "Epoch 25/32\n",
            "124/124 [==============================] - ETA: 0s - loss: 0.2816 - accuracy: 0.9160\n",
            "Epoch 25: val_accuracy did not improve from 0.95714\n",
            "124/124 [==============================] - 25s 203ms/step - loss: 0.2816 - accuracy: 0.9160 - val_loss: 0.4694 - val_accuracy: 0.9000\n",
            "Epoch 26/32\n",
            "124/124 [==============================] - ETA: 0s - loss: 0.3169 - accuracy: 0.9192\n",
            "Epoch 26: val_accuracy did not improve from 0.95714\n",
            "124/124 [==============================] - 24s 193ms/step - loss: 0.3169 - accuracy: 0.9192 - val_loss: 0.6290 - val_accuracy: 0.8143\n",
            "Epoch 27/32\n",
            "124/124 [==============================] - ETA: 0s - loss: 0.3168 - accuracy: 0.9225\n",
            "Epoch 27: val_accuracy did not improve from 0.95714\n",
            "124/124 [==============================] - 24s 194ms/step - loss: 0.3168 - accuracy: 0.9225 - val_loss: 0.3221 - val_accuracy: 0.8857\n",
            "Epoch 28/32\n",
            "124/124 [==============================] - ETA: 0s - loss: 0.3105 - accuracy: 0.9273\n",
            "Epoch 28: val_accuracy did not improve from 0.95714\n",
            "124/124 [==============================] - 24s 195ms/step - loss: 0.3105 - accuracy: 0.9273 - val_loss: 0.3869 - val_accuracy: 0.9000\n",
            "Epoch 29/32\n",
            "124/124 [==============================] - ETA: 0s - loss: 0.3255 - accuracy: 0.9128\n",
            "Epoch 29: val_accuracy did not improve from 0.95714\n",
            "124/124 [==============================] - 24s 194ms/step - loss: 0.3255 - accuracy: 0.9128 - val_loss: 0.2123 - val_accuracy: 0.9143\n",
            "Epoch 30/32\n",
            "124/124 [==============================] - ETA: 0s - loss: 0.4022 - accuracy: 0.9192\n",
            "Epoch 30: val_accuracy did not improve from 0.95714\n",
            "124/124 [==============================] - 24s 194ms/step - loss: 0.4022 - accuracy: 0.9192 - val_loss: 0.4478 - val_accuracy: 0.8857\n",
            "Epoch 31/32\n",
            "124/124 [==============================] - ETA: 0s - loss: 0.3640 - accuracy: 0.9257\n",
            "Epoch 31: val_accuracy did not improve from 0.95714\n",
            "124/124 [==============================] - 24s 195ms/step - loss: 0.3640 - accuracy: 0.9257 - val_loss: 0.5221 - val_accuracy: 0.8714\n",
            "Epoch 32/32\n",
            "124/124 [==============================] - ETA: 0s - loss: 0.3709 - accuracy: 0.9144\n",
            "Epoch 32: val_accuracy did not improve from 0.95714\n",
            "124/124 [==============================] - 24s 194ms/step - loss: 0.3709 - accuracy: 0.9144 - val_loss: 0.5802 - val_accuracy: 0.9000\n"
          ]
        }
      ],
      "source": [
        "# Fitting the Model\n",
        "resnet = model_incep.fit(\n",
        "    train_data,\n",
        "    steps_per_epoch = train_data.samples//train_data.batch_size,\n",
        "    epochs = 32,\n",
        "    validation_data = val_data,\n",
        "    validation_steps = val_data.samples//val_data.batch_size,\n",
        "    callbacks = call_back\n",
        "    )"
      ]
    },
    {
      "cell_type": "code",
      "execution_count": null,
      "metadata": {
        "execution": {
          "iopub.execute_input": "2022-01-13T13:37:20.436107Z",
          "iopub.status.busy": "2022-01-13T13:37:20.435384Z",
          "iopub.status.idle": "2022-01-13T13:37:25.661787Z",
          "shell.execute_reply": "2022-01-13T13:37:25.66093Z",
          "shell.execute_reply.started": "2022-01-13T13:37:20.436072Z"
        },
        "id": "KUP7duiunAym"
      },
      "outputs": [],
      "source": [
        "# Loading the Best Fit Model\n",
        "model = load_model(\"./ct_resnet_best_model.hdf5\")"
      ]
    },
    {
      "cell_type": "code",
      "execution_count": null,
      "metadata": {
        "execution": {
          "iopub.execute_input": "2022-01-13T13:37:29.576161Z",
          "iopub.status.busy": "2022-01-13T13:37:29.575894Z",
          "iopub.status.idle": "2022-01-13T13:37:33.24883Z",
          "shell.execute_reply": "2022-01-13T13:37:33.248059Z",
          "shell.execute_reply.started": "2022-01-13T13:37:29.57613Z"
        },
        "id": "_DuWEX2_nAym",
        "colab": {
          "base_uri": "https://localhost:8080/"
        },
        "outputId": "bd483d40-725b-4b88-c7f8-a476d6592faf"
      },
      "outputs": [
        {
          "output_type": "stream",
          "name": "stdout",
          "text": [
            "The accuracy of the model is = 84.1269850730896 %\n"
          ]
        }
      ],
      "source": [
        "# Checking the Accuracy of the Model\n",
        "accuracy_resnet = model.evaluate_generator(generator= test_data)[1]\n",
        "print(f\"The accuracy of the model is = {accuracy_resnet*100} %\")"
      ]
    },
    {
      "cell_type": "code",
      "execution_count": null,
      "metadata": {
        "execution": {
          "iopub.execute_input": "2022-01-13T13:37:42.69543Z",
          "iopub.status.busy": "2022-01-13T13:37:42.694613Z",
          "iopub.status.idle": "2022-01-13T13:37:42.701221Z",
          "shell.execute_reply": "2022-01-13T13:37:42.700451Z",
          "shell.execute_reply.started": "2022-01-13T13:37:42.695367Z"
        },
        "id": "7V3jx6dMnAyn",
        "colab": {
          "base_uri": "https://localhost:8080/"
        },
        "outputId": "7dbff200-5090-487e-fd24-94c34757115c"
      },
      "outputs": [
        {
          "output_type": "execute_result",
          "data": {
            "text/plain": [
              "dict_keys(['loss', 'accuracy', 'val_loss', 'val_accuracy'])"
            ]
          },
          "metadata": {},
          "execution_count": 44
        }
      ],
      "source": [
        "resnet.history.keys()"
      ]
    },
    {
      "cell_type": "code",
      "execution_count": null,
      "metadata": {
        "execution": {
          "iopub.execute_input": "2022-01-13T13:37:49.944556Z",
          "iopub.status.busy": "2022-01-13T13:37:49.94392Z",
          "iopub.status.idle": "2022-01-13T13:37:50.3566Z",
          "shell.execute_reply": "2022-01-13T13:37:50.355903Z",
          "shell.execute_reply.started": "2022-01-13T13:37:49.944508Z"
        },
        "id": "7tJf4hMJnAyn",
        "colab": {
          "base_uri": "https://localhost:8080/",
          "height": 369
        },
        "outputId": "9d0f54ba-e4cd-4daf-9d01-4bedbe004726"
      },
      "outputs": [
        {
          "output_type": "display_data",
          "data": {
            "text/plain": [
              "<Figure size 1080x360 with 2 Axes>"
            ],
            "image/png": "[encoded data removed]"
          },
          "metadata": {
            "needs_background": "light"
          }
        }
      ],
      "source": [
        "# Plot model performance\n",
        "acc = resnet.history['accuracy']\n",
        "val_acc = resnet.history['val_accuracy']\n",
        "loss = resnet.history['loss']\n",
        "val_loss = resnet.history['val_loss']\n",
        "epochs_range = range(1, len(resnet.epoch) + 1)\n",
        "\n",
        "plt.figure(figsize=(15,5))\n",
        "\n",
        "plt.subplot(1, 2, 1)\n",
        "plt.plot(epochs_range, acc, label='Train Set')\n",
        "plt.plot(epochs_range, val_acc, label='Val Set')\n",
        "plt.legend(loc=\"best\")\n",
        "plt.xlabel('Epochs')\n",
        "plt.ylabel('Accuracy')\n",
        "plt.title('Model Accuracy')\n",
        "\n",
        "plt.subplot(1, 2, 2)\n",
        "plt.plot(epochs_range, loss, label='Train Set')\n",
        "plt.plot(epochs_range, val_loss, label='Val Set')\n",
        "plt.legend(loc=\"best\")\n",
        "plt.xlabel('Epochs')\n",
        "plt.ylabel('Loss')\n",
        "plt.title('Model Loss')\n",
        "\n",
        "plt.tight_layout()\n",
        "plt.show()"
      ]
    },
    {
      "cell_type": "markdown",
      "metadata": {
        "id": "9NDYrKeWnAyn"
      },
      "source": [
        "## Comparison"
      ]
    },
    {
      "cell_type": "code",
      "execution_count": null,
      "metadata": {
        "execution": {
          "iopub.execute_input": "2022-01-13T13:37:54.56006Z",
          "iopub.status.busy": "2022-01-13T13:37:54.559805Z",
          "iopub.status.idle": "2022-01-13T13:37:54.755982Z",
          "shell.execute_reply": "2022-01-13T13:37:54.755227Z",
          "shell.execute_reply.started": "2022-01-13T13:37:54.560031Z"
        },
        "id": "UOs2_jfvnAyn",
        "colab": {
          "base_uri": "https://localhost:8080/",
          "height": 334
        },
        "outputId": "f8a2413d-27dd-47b0-ef16-6e181a3b1255"
      },
      "outputs": [
        {
          "output_type": "display_data",
          "data": {
            "text/plain": [
              "<Figure size 720x360 with 1 Axes>"
            ],
            "image/png": "[encoded data removed]"
          },
          "metadata": {
            "needs_background": "light"
          }
        }
      ],
      "source": [
        "algos = ['CNN', 'VGG16', 'InceptionV3', 'Resnet50']\n",
        "accuracy = [accuracy_cnn, accuracy_vgg, accuracy_incep, accuracy_resnet]\n",
        "accuracy = np.floor([i * 100 for i in accuracy])\n",
        "\n",
        "fig = plt.figure(figsize = (10, 5))\n",
        "\n",
        "# creating the bar plot\n",
        "plt.bar(algos, accuracy, color ='red', width = 0.3)\n",
        "\n",
        "plt.xlabel(\"Algorithms Applied\")\n",
        "plt.ylabel(\"Accuracy\")\n",
        "plt.show()"
      ]
    },
    {
      "cell_type": "markdown",
      "metadata": {
        "id": "PQJ9YY_jnAyo"
      },
      "source": [
        "### Predictions"
      ]
    },
    {
      "cell_type": "code",
      "execution_count": null,
      "metadata": {
        "execution": {
          "iopub.execute_input": "2022-01-13T13:38:03.862281Z",
          "iopub.status.busy": "2022-01-13T13:38:03.861996Z",
          "iopub.status.idle": "2022-01-13T13:38:03.868256Z",
          "shell.execute_reply": "2022-01-13T13:38:03.867522Z",
          "shell.execute_reply.started": "2022-01-13T13:38:03.862251Z"
        },
        "id": "wELmQaSMnAyo"
      },
      "outputs": [],
      "source": [
        "def chestScanPrediction(path, _model):\n",
        "    classes_dir = [\"Adenocarcinoma\",\"Large cell carcinoma\",\"Normal\",\"Squamous cell carcinoma\"]\n",
        "    # Loading Image\n",
        "    img = image.load_img(path, target_size=(350,350))\n",
        "    # Normalizing Image\n",
        "    norm_img = image.img_to_array(img)/255\n",
        "    # Converting Image to Numpy Array\n",
        "    input_arr_img = np.array([norm_img])\n",
        "    # Getting Predictions\n",
        "    pred = np.argmax(_model.predict(input_arr_img))\n",
        "    # Printing Model Prediction\n",
        "    print(classes_dir[pred])"
      ]
    },
    {
      "cell_type": "code",
      "execution_count": null,
      "metadata": {
        "execution": {
          "iopub.execute_input": "2022-01-13T13:38:07.676669Z",
          "iopub.status.busy": "2022-01-13T13:38:07.676017Z",
          "iopub.status.idle": "2022-01-13T13:38:09.112567Z",
          "shell.execute_reply": "2022-01-13T13:38:09.111826Z",
          "shell.execute_reply.started": "2022-01-13T13:38:07.676632Z"
        },
        "id": "yfKavXcknAyo",
        "colab": {
          "base_uri": "https://localhost:8080/"
        },
        "outputId": "5299db6a-bd29-4612-ade3-24296d57e066"
      },
      "outputs": [
        {
          "output_type": "stream",
          "name": "stdout",
          "text": [
            "1/1 [==============================] - 2s 2s/step\n",
            "Squamous cell carcinoma\n"
          ]
        }
      ],
      "source": [
        "path = \"/content/drive/MyDrive/Lung_CT/train/ade/1-04 (10).jpeg\"\n",
        "chestScanPrediction(path,model_incep)"
      ]
    },
    {
      "cell_type": "code",
      "source": [],
      "metadata": {
        "id": "O2FIT33ywpbV"
      },
      "execution_count": null,
      "outputs": []
    }
  ],
  "metadata": {
    "kernelspec": {
      "display_name": "Python 3 (ipykernel)",
      "language": "python",
      "name": "python3"
    },
    "language_info": {
      "codemirror_mode": {
        "name": "ipython",
        "version": 3
      },
      "file_extension": ".py",
      "mimetype": "text/x-python",
      "name": "python",
      "nbconvert_exporter": "python",
      "pygments_lexer": "ipython3",
      "version": "3.9.13"
    },
    "colab": {
      "provenance": [],
      "include_colab_link": true
    },
    "accelerator": "GPU",
    "gpuClass": "standard"
  },
  "nbformat": 4,
  "nbformat_minor": 0
}